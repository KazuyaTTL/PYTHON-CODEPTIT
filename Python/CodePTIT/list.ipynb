{
 "cells": [
  {
   "cell_type": "code",
   "execution_count": 16,
   "metadata": {},
   "outputs": [
    {
     "name": "stdout",
     "output_type": "stream",
     "text": [
      "[0, 1, 2, 3]\n"
     ]
    }
   ],
   "source": [
    "\"\"\" ICPC0101\n",
    "Cho dãy số A[] chỉ bao gồm các số nguyên dương. Người ta thu gọn dần dãy số bằng cách loại bỏ các cặp phần tử \n",
    "kề nhau mà có tổng là chẵn. Sau khi cặp phần tử đó bị loại ra thì dãy số được dồn lại. Cứ tiếp tục như vậy cho \n",
    "đến khi không còn cặp phần tử nào kề nhau có tổng chẵn nữa.\n",
    "Hãy tính xem cuối cùng dãy A[] còn bao nhiêu phần tử.\n",
    "\n",
    "Input\n",
    "Dòng đâu ghi số N là số phần tử của dãy (1 ≤ N ≤ 105 tức là dãy A có thể có đến 10 nghìn phần tử).\n",
    "Dòng tiếp theo ghi N số của dãy A (1 ≤ A[i] ≤ 100).\n",
    "\n",
    "Output\n",
    "Ghi ra trên một dòng số phần tử còn lại trong dãy A[].\n",
    "\"\"\"\n",
    "n = int(input(\"Nhap so luong cac phan tu : \"))\n",
    "a = []\n",
    "for i in range(n):\n",
    "    new = int(input(\"Nhap cac phan tu : \"))\n",
    "    a.append(i)\n"
   ]
  },
  {
   "cell_type": "code",
   "execution_count": 19,
   "metadata": {},
   "outputs": [
    {
     "name": "stdout",
     "output_type": "stream",
     "text": [
      "[1, 2, 2, 3, 4]\n",
      "[1, 3, 4]\n",
      "[4]\n",
      "1\n"
     ]
    }
   ],
   "source": [
    "n = int(input(\"Nhap so luong dau vao : \"))\n",
    "a = [int(input(\"Nhap cac phan tu : \")) for _ in range(n)]\n",
    "print(a)\n",
    "while True:\n",
    "    new_a = []\n",
    "    i = 0\n",
    "    while i < len(a):\n",
    "        if i < len(a) - 1 and (a[i] + a[i+1]) % 2 == 0:\n",
    "            i += 2\n",
    "        else:\n",
    "            new_a.append(a[i])\n",
    "            i += 1\n",
    "    if len(new_a) == len(a):\n",
    "        break\n",
    "    a = new_a\n",
    "    print(new_a)\n",
    "print(len(a))"
   ]
  },
  {
   "cell_type": "code",
   "execution_count": 20,
   "metadata": {},
   "outputs": [
    {
     "name": "stdout",
     "output_type": "stream",
     "text": [
      "Dãy số ban đầu: [1, 1, 2, 4]\n",
      "Dãy số sau khi loại bỏ: [1, 4]\n",
      "Số phần tử còn lại: 2\n"
     ]
    }
   ],
   "source": [
    "a = []\n",
    "n = int(input(\"Nhap so luong dau vao: \"))\n",
    "for i in range(n):\n",
    "    element = int(input(\"Nhap cac phan tu: \"))\n",
    "    a.append(element)\n",
    "print(\"Dãy số ban đầu:\", a)\n",
    "\n",
    "result = []\n",
    "for i in range(len(a)-1):\n",
    "    if (a[i] + a[i+1]) % 2 != 0:\n",
    "        result.append(a[i])\n",
    "\n",
    "# Xử lý phần tử cuối cùng của dãy\n",
    "if len(a) > 0:\n",
    "    result.append(a[-1])\n",
    "\n",
    "print(\"Dãy số sau khi loại bỏ:\", result)\n",
    "print(\"Số phần tử còn lại:\", len(result))"
   ]
  },
  {
   "cell_type": "code",
   "execution_count": 39,
   "metadata": {},
   "outputs": [
    {
     "name": "stdout",
     "output_type": "stream",
     "text": [
      "NO\n",
      "YES\n",
      "NO\n",
      "YES\n"
     ]
    }
   ],
   "source": [
    "\"\"\"  PY01004\n",
    "Trong toán học, một cặp số được gọi là nguyên tố cùng nhau nếu ước số chung lớn nhất của 2 số đó là 1. Cho số nguyên \n",
    "dương N, giả sử ta đếm được K số nguyên dương nhỏ hơn N có tính chất nguyên tố cùng nhau với N. Hãy kiểm tra xem K có \n",
    "phải là số nguyên tố hay không.\n",
    "\n",
    "Input:\n",
    "Dòng đầu ghi số bộ test, không quá 10.\n",
    "Dòng thứ 2 ghi số N (1 < N < 10000)\n",
    "\n",
    "Output:\n",
    "Với mỗi test ghi ra YES hoặc NO tùy thuộc kết quả kiểm tra.\n",
    "\"\"\"\n",
    "#Hàm xác định ước chung lớn nhất\n",
    "def gcd(a, b):\n",
    "    while b != 0:\n",
    "        a, b = b, a % b\n",
    "    return a\n",
    "#Hàm kiểm tra số nguyên tố\n",
    "def is_prime(n):\n",
    "    if n < 2:\n",
    "        return False\n",
    "    for i in range(2, int(n**0.5) + 1):\n",
    "        if n % i == 0:\n",
    "            return False\n",
    "    return True\n",
    "####\n",
    "def solve():\n",
    "    t = int(input(\"Nhập số lượng bộ test: \").strip())\n",
    "    for j in range(t):\n",
    "        n = int(input(\"Nhập giá trị N: \").strip())\n",
    "        count = 0\n",
    "        for i in range(1, n):\n",
    "            if gcd(i, n) == 1:\n",
    "                count += 1\n",
    "        if is_prime(count):\n",
    "            print('YES')\n",
    "        else:\n",
    "            print('NO')\n",
    "solve()\n"
   ]
  },
  {
   "cell_type": "code",
   "execution_count": 21,
   "metadata": {},
   "outputs": [
    {
     "ename": "TypeError",
     "evalue": "int() argument must be a string, a bytes-like object or a real number, not 'list'",
     "output_type": "error",
     "traceback": [
      "\u001b[1;31m---------------------------------------------------------------------------\u001b[0m",
      "\u001b[1;31mTypeError\u001b[0m                                 Traceback (most recent call last)",
      "Cell \u001b[1;32mIn[21], line 15\u001b[0m\n\u001b[0;32m     13\u001b[0m \u001b[38;5;28;01mfrom\u001b[39;00m \u001b[38;5;21;01mmath\u001b[39;00m \u001b[38;5;28;01mimport\u001b[39;00m\u001b[38;5;241m*\u001b[39m\n\u001b[0;32m     14\u001b[0m n \u001b[38;5;241m=\u001b[39m \u001b[38;5;28mint\u001b[39m(\u001b[38;5;28minput\u001b[39m(\u001b[38;5;124m\"\u001b[39m\u001b[38;5;124mNhap so phan tu cua A: \u001b[39m\u001b[38;5;124m\"\u001b[39m))\n\u001b[1;32m---> 15\u001b[0m A \u001b[38;5;241m=\u001b[39m \u001b[43m[\u001b[49m\u001b[38;5;28;43mmap\u001b[39;49m\u001b[43m(\u001b[49m\u001b[38;5;28;43mint\u001b[39;49m\u001b[43m(\u001b[49m\u001b[38;5;28;43minput\u001b[39;49m\u001b[43m(\u001b[49m\u001b[43m)\u001b[49m\u001b[38;5;241;43m.\u001b[39;49m\u001b[43msplit\u001b[49m\u001b[43m(\u001b[49m\u001b[43m)\u001b[49m\u001b[43m)\u001b[49m\u001b[43m)\u001b[49m\u001b[43m \u001b[49m\u001b[38;5;28;43;01mfor\u001b[39;49;00m\u001b[43m \u001b[49m\u001b[43m_\u001b[49m\u001b[43m \u001b[49m\u001b[38;5;129;43;01min\u001b[39;49;00m\u001b[43m \u001b[49m\u001b[38;5;28;43mrange\u001b[39;49m\u001b[43m(\u001b[49m\u001b[43mn\u001b[49m\u001b[43m)\u001b[49m\u001b[43m]\u001b[49m\n\u001b[0;32m     16\u001b[0m m \u001b[38;5;241m=\u001b[39m []\n\u001b[0;32m     17\u001b[0m \u001b[38;5;28;01mdef\u001b[39;00m \u001b[38;5;21mgcd\u001b[39m(a, b):\n",
      "Cell \u001b[1;32mIn[21], line 15\u001b[0m, in \u001b[0;36m<listcomp>\u001b[1;34m(.0)\u001b[0m\n\u001b[0;32m     13\u001b[0m \u001b[38;5;28;01mfrom\u001b[39;00m \u001b[38;5;21;01mmath\u001b[39;00m \u001b[38;5;28;01mimport\u001b[39;00m\u001b[38;5;241m*\u001b[39m\n\u001b[0;32m     14\u001b[0m n \u001b[38;5;241m=\u001b[39m \u001b[38;5;28mint\u001b[39m(\u001b[38;5;28minput\u001b[39m(\u001b[38;5;124m\"\u001b[39m\u001b[38;5;124mNhap so phan tu cua A: \u001b[39m\u001b[38;5;124m\"\u001b[39m))\n\u001b[1;32m---> 15\u001b[0m A \u001b[38;5;241m=\u001b[39m [\u001b[38;5;28mmap\u001b[39m(\u001b[38;5;28;43mint\u001b[39;49m\u001b[43m(\u001b[49m\u001b[38;5;28;43minput\u001b[39;49m\u001b[43m(\u001b[49m\u001b[43m)\u001b[49m\u001b[38;5;241;43m.\u001b[39;49m\u001b[43msplit\u001b[49m\u001b[43m(\u001b[49m\u001b[43m)\u001b[49m\u001b[43m)\u001b[49m) \u001b[38;5;28;01mfor\u001b[39;00m _ \u001b[38;5;129;01min\u001b[39;00m \u001b[38;5;28mrange\u001b[39m(n)]\n\u001b[0;32m     16\u001b[0m m \u001b[38;5;241m=\u001b[39m []\n\u001b[0;32m     17\u001b[0m \u001b[38;5;28;01mdef\u001b[39;00m \u001b[38;5;21mgcd\u001b[39m(a, b):\n",
      "\u001b[1;31mTypeError\u001b[0m: int() argument must be a string, a bytes-like object or a real number, not 'list'"
     ]
    }
   ],
   "source": [
    "\"\"\" PY02019\n",
    "Cho dãy số A[] có n phần tử là các số nguyên dương khác nhau, giá trị không quá 100. Hãy liệt kê các cặp số nguyên tố \n",
    "cùng nhau xuất hiện trong dãy theo thứ tự tăng dần, mỗi cặp số in trên một dòng.\n",
    "Một cặp số được gọi là nguyên tố cùng nhau nếu ước chung lớn nhất của chúng bằng 1.\n",
    "\n",
    "Input\n",
    "Dòng đầu ghi số n (không quá 100).\n",
    "Dòng thứ 2 ghi n số của dãy A[]\n",
    "\n",
    "Output\n",
    "Ghi lần lượt các cặp số nguyên tố cùng nhau theo thứ tự tăng dần.\n",
    "\"\"\"\n",
    "from math import*\n",
    "n = int(input(\"Nhap so phan tu cua A: \"))\n",
    "A = [int(input(\"Nhap cac phan tu : \")) for _ in range(n)]\n",
    "m = []\n",
    "def gcd(a, b):\n",
    "    while b != 0:\n",
    "        a, b = b, a % b\n",
    "    return a == 1\n",
    "for i in A:\n",
    "    for j in A:\n",
    "        if i < j:\n",
    "            if gcd(i,j):\n",
    "                m.append((i,j))\n",
    "m.sort()\n",
    "for k in m:\n",
    "    print(k[0],k[1])\n"
   ]
  },
  {
   "cell_type": "code",
   "execution_count": 1,
   "metadata": {},
   "outputs": [
    {
     "name": "stdout",
     "output_type": "stream",
     "text": [
      "3 7\n",
      "3 13\n",
      "6 7\n",
      "6 13\n",
      "7 9\n",
      "7 13\n",
      "9 13\n"
     ]
    }
   ],
   "source": [
    "\"\"\"PY02019\"\"\"\n",
    "import math\n",
    "\n",
    "def gcd(a, b):\n",
    "    while b != 0:\n",
    "        a, b = b, a % b\n",
    "    return a\n",
    "\n",
    "def prime_pairs(A):\n",
    "    A.sort()\n",
    "    pairs = []\n",
    "    for i in range(len(A)):\n",
    "        for j in range(i+1, len(A)):\n",
    "            if gcd(A[i], A[j]) == 1:\n",
    "                pairs.append((A[i], A[j]))\n",
    "    return pairs\n",
    "\n",
    "n = int(input())\n",
    "A = list(map(int, input().split()))\n",
    "pairs = prime_pairs(A)\n",
    "\n",
    "for pair in pairs:\n",
    "    print(pair[0], pair[1])"
   ]
  },
  {
   "cell_type": "code",
   "execution_count": 29,
   "metadata": {},
   "outputs": [
    {
     "name": "stdout",
     "output_type": "stream",
     "text": [
      "[1, 1, 2, 3, 5, 8, 13, 21, 34, 55]\n"
     ]
    }
   ],
   "source": [
    "\"\"\" PY02002\n",
    "Dãy số Fibonacci được định nghĩa theo công thức như sau:\n",
    "F1 = 1\n",
    "F2 = 1\n",
    "Fn = Fn-1 + Fn-2 với n>2\n",
    "Cho hai số nguyên dương a và b (1 < a < b < 93). Viết chương trình liệt kê các số Fibonacci từ a đến b.\n",
    "\n",
    "Input\n",
    "Dòng đầu ghi số bộ test, không quá 10.\n",
    "Mỗi bộ test viết trên một dòng hai số a và b.\n",
    "\n",
    "Output\n",
    "Ghi ra kết quả của mỗi test trên một dòng, mỗi số cách nhau một khoảng trống.\n",
    "\"\"\"\n",
    "#Hàm tạo ra dãy số fibonacci\n",
    "def fibonacci(n):\n",
    "    fib = [0, 1]\n",
    "    for i in range(2, n+1):\n",
    "        fib.append(fib[i-1] + fib[i-2])\n",
    "    return fib\n",
    "###\n",
    "def solve(test_cases):\n",
    "    fib = fibonacci(92)\n",
    "    for a, b in test_cases:\n",
    "        print(' '.join(str(fib[i]) for i in range(a, b+1)))\n",
    "# Số lượng bộ test\n",
    "t = int(input(\"Nhập số lượng bộ test : \").strip())\n",
    "# Danh sách các bộ test\n",
    "test_cases = []\n",
    "for _ in range(t):\n",
    "    a, b = map(int, input(\"Nhập các giá trị : \").strip().split())\n",
    "    test_cases.append((a, b))\n",
    "solve(test_cases)\n",
    "\n",
    "\n",
    "\n",
    "\n"
   ]
  },
  {
   "cell_type": "code",
   "execution_count": 38,
   "metadata": {},
   "outputs": [
    {
     "name": "stdout",
     "output_type": "stream",
     "text": [
      "[1, 1, 2, 3, 5, 8, 13, 21, 34, 55]\n"
     ]
    }
   ],
   "source": [
    "def fibonacci(a, b):\n",
    "    fib = [1, 1]\n",
    "    while len(fib) < b:\n",
    "        fib.append(fib[-1] + fib[-2])\n",
    "    return fib[a-1:b]\n",
    "t = int(input(\"Nhập số lượng bộ test: \").strip())\n",
    "for _ in range(t):\n",
    "    a, b = map(int, input(\"Nhập hai số nguyên dương a và b: \").split())\n",
    "    print(fibonacci(a, b))"
   ]
  },
  {
   "cell_type": "code",
   "execution_count": null,
   "metadata": {},
   "outputs": [],
   "source": [
    "\"\"\"\n",
    "Cho số nguyên dương N có không quá 500 chữ số.\n",
    "\n",
    "Hãy kiểm tra xem 4 chữ số cuối cùng ghép lại có tạo thành một số nguyên tố hay không.\n",
    "\n",
    "Chú ý: các chữ số 0 ở đầu trong 4 chữ số cuối vẫn được chấp nhận\n",
    "\n",
    "Input\n",
    "\n",
    "Dòng đầu ghi số bộ test (không quá 20).\n",
    "\n",
    "Mỗi test viết trên một dòng số nguyên dương N, không quá 500 chữ số.\n",
    "\n",
    "Output\n",
    "\n",
    "Với mỗi bộ test ghi ra YES hoặc NO tùy thuộc kết quả kiểm tra.\n",
    "\"\"\"\n",
    "#Hàm kiểm tra số nguyên tố\n",
    "def kiem_tra_nguyen_to(so):\n",
    "    if so < 2:\n",
    "        return False\n",
    "    for i in range(2, int(so**0.5) + 1):\n",
    "        if so % i == 0:\n",
    "            return False\n",
    "    return True\n",
    "#Hàm tính ra 4 số cuối cùng của n\n",
    "def uet(n):\n",
    "    cn1 = 0\n",
    "    for i in range(4):\n",
    "        cn1 = cn1 * 10 + n % 10\n",
    "        n //= 10\n",
    "    m = str(cn1)\n",
    "    return int(m[::-1])\n",
    "t = int(input(\"Nhap so bo test : \"))\n",
    "for _ in range(t):\n",
    "    n = int(input())\n",
    "    if kiem_tra_nguyen_to(uet(n)):\n",
    "        print(\"YES\")\n",
    "    else:\n",
    "        print(\"NO\")\n"
   ]
  },
  {
   "cell_type": "code",
   "execution_count": null,
   "metadata": {},
   "outputs": [],
   "source": [
    "\"\"\"\n",
    "Cho số nguyên dương không quá 9 chữ số. Hãy làm tròn số N theo quy tắc sau:\n",
    "\n",
    "Nếu N>10, làm tròn đến số hàng chục gần nhất\n",
    "Sau đó nếu kết quả lớn hơn 100 thì làm tròn đến số hàng trăm gần nhất\n",
    "Sau đó nếu kết quả lớn hơn 1000 thì làm trong đến số hàng nghìn gần nhất\n",
    "Cứ tiếp tục như vậy …\n",
    "Chú ý: Giá trị 5 sẽ được làm tròn lên.\n",
    "\n",
    "Input:\n",
    "Dòng đầu ghi số bộ test (không quá 100)\n",
    "Mỗi bộ test ghi số N trên một dòng (N nguyên dương và không quá 9 chữ số)\n",
    "\n",
    "Output:\n",
    "Với mỗi test, ghi ra kết quả làm tròn tương ứng trên một dòng.\n",
    "\n",
    "Ví dụ:\n",
    "\n",
    "15-20\n",
    "14-10\n",
    "99-100\n",
    "12345678-10000000\n",
    "44444445-50000000\n",
    "\"\"\"\n"
   ]
  },
  {
   "cell_type": "code",
   "execution_count": 2,
   "metadata": {},
   "outputs": [],
   "source": [
    "\"\"\"\n",
    "Chung kết Euro 2020, quá nhiều người dự đoán đúng Italia thắng Anh bằng đá luân lưu 11m. Ban tổ chức chương trình Dự đoán \n",
    "tỉ số trúng Mercedes thấy rất khó trao giải nên quyết định tìm người được trao thưởng bằng cách chạy đoạn code lựa chọn \n",
    "ngẫu nhiên.\n",
    "Các người chơi dự đoán đúng được đánh số thứ tự bắt đầu từ 1, giả sử cũng có không quá 1000 người. Chương trình sẽ thực \n",
    "hiện lấy ngẫu nhiên N lần, mỗi lần 1 giá trị từ 1 đến 1000, N cũng không quá 1000.\n",
    "Sau khi kết thúc N lần ngẫu nhiên, con số nào được chọn nhiều lần nhất sẽ cho biết người trúng thưởng. Trong trường hợp \n",
    "có nhiều số có số lần xuất hiện bằng nhau và lớn nhất thì số có giá trị nhỏ nhất sẽ được chọn.\n",
    "Hãy giúp BTC tìm ra người được trao thưởng.\n",
    "\n",
    "Input\n",
    "Dòng đầu ghi số bộ test, không quá 100.\n",
    "Mỗi bộ test gồm N+1 dòng. Dòng đầu ghi số N. Tiếp theo là N dòng ghi các giá trị ngẫu nhiên nhận được.\n",
    "\n",
    "Output\n",
    "Với mỗi test, ghi ra số thứ tự của người được trao thưởng.\n",
    "\"\"\"\n",
    "from collections import defaultdict\n",
    "t = int(input().strip())\n",
    "for _ in range(t):\n",
    "    n = int(input().strip())\n",
    "    counts = defaultdict(int)\n",
    "    for _ in range(n):\n",
    "        num = int(input().strip())\n",
    "        counts[num] += 1\n",
    "    max_count = max(counts.values())\n",
    "    winners = [num for num, count in counts.items() if count == max_count]\n",
    "    print(min(winners))"
   ]
  }
 ],
 "metadata": {
  "kernelspec": {
   "display_name": "Python 3",
   "language": "python",
   "name": "python3"
  },
  "language_info": {
   "codemirror_mode": {
    "name": "ipython",
    "version": 3
   },
   "file_extension": ".py",
   "mimetype": "text/x-python",
   "name": "python",
   "nbconvert_exporter": "python",
   "pygments_lexer": "ipython3",
   "version": "3.11.5"
  }
 },
 "nbformat": 4,
 "nbformat_minor": 2
}
