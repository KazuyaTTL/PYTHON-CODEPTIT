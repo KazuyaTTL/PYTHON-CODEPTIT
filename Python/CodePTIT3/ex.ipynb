{
 "cells": [
  {
   "cell_type": "code",
   "execution_count": null,
   "metadata": {},
   "outputs": [],
   "source": [
    "#KIỂM TRA SỐ ĐẸP\n",
    "def check(s):\n",
    "    for i in range(2, len(s)):\n",
    "        if(s[i] != s[i-2]) :\n",
    "            return False\n",
    "    return True\n",
    "\n",
    "t = int(input())\n",
    "for i in range(t):\n",
    "    s = input()\n",
    "    if(check(s) == True):\n",
    "        print(\"YES\")\n",
    "    else :\n",
    "        print(\"NO\")"
   ]
  },
  {
   "cell_type": "code",
   "execution_count": null,
   "metadata": {},
   "outputs": [],
   "source": [
    "#SỐ TĂNG GIẢM\n",
    "def check(s) :\n",
    "    if len(s) < 3 : return False\n",
    "    if s[1] <= s[0] or s[-2] <= s[-1] : return False \n",
    "    p1 = 1\n",
    "    p2 = len(s) - 2\n",
    "    while s[p1] > s[p1 - 1] and p1 < len(s) : p1 += 1\n",
    "    while s[p2] > s[p2 + 1] and p2 >= 0 : p2 -= 1\n",
    "    if p1 == p2 + 2 : return True\n",
    "    else : return False\n",
    "t = int(input())\n",
    "for i in range(t) :\n",
    "    s = input()\n",
    "    if check(s) == True : print(\"YES\")\n",
    "    else : print(\"NO\")"
   ]
  },
  {
   "cell_type": "code",
   "execution_count": null,
   "metadata": {},
   "outputs": [],
   "source": [
    "#KIỂM TRA HỆ CƠ SỐ 3\n",
    "t = int(input())\n",
    "\n",
    "for i in range(t) :\n",
    "    n = input()\n",
    "    d = 1\n",
    "    for i in range(len(n)):\n",
    "        if n[i] != '1' and n[i] != '2' and n[i] != '0' :\n",
    "            d = 0\n",
    "            break\n",
    "    if d == 0:\n",
    "        print(\"NO\")\n",
    "    else :\n",
    "        print(\"YES\")"
   ]
  },
  {
   "cell_type": "code",
   "execution_count": null,
   "metadata": {},
   "outputs": [],
   "source": [
    "#XÂU PALINDROME\n",
    "s = input()\n",
    "print(len(s) - 1)"
   ]
  },
  {
   "cell_type": "code",
   "execution_count": null,
   "metadata": {},
   "outputs": [],
   "source": [
    "#THÁP HÀ NỘI\n",
    "def Try(n, a, b, c):\n",
    "\tif n == 1 :\n",
    "\t\tprint(a, \"->\", b)\n",
    "\t\treturn\n",
    "\tTry(n - 1, a, c, b)\n",
    "\tprint(a,\"->\",b)\n",
    "\tTry(n - 1, c, b, a)\n",
    "n = int(input())\n",
    "Try(n, 'A', 'C', 'B')"
   ]
  },
  {
   "cell_type": "code",
   "execution_count": null,
   "metadata": {},
   "outputs": [],
   "source": [
    "#KÝ TỰ A - B - C\n",
    "def Try(s, n, a, b, c) :\n",
    "    if len(s) == n and a <= b and b <= c and a > 0 :\n",
    "        print(s)\n",
    "    if len(s) < n :\n",
    "        Try(s + \"A\", n, a + 1, b, c)\n",
    "        Try(s + \"B\", n, a, b + 1, c)\n",
    "        Try(s + \"C\", n, a, b, c + 1)\n",
    "\n",
    "n = int(input())\n",
    "for i in range(3, n + 1) :\n",
    "    Try(\"\", i, 0, 0, 0)"
   ]
  },
  {
   "cell_type": "code",
   "execution_count": null,
   "metadata": {},
   "outputs": [],
   "source": [
    "#TỔNG CHỮ SỐ THUẬN NGHỊCH\n",
    "def check(n) :\n",
    "    s = 0\n",
    "    for i in n :\n",
    "        s += int(i)\n",
    "    if s == int(str(s)[::-1]) and s > 10 : return True\n",
    "    return False\n",
    "t = int(input())\n",
    "for i in range(t) :\n",
    "    n = input()\n",
    "    if check(n) == True : print(\"YES\")\n",
    "    else : print(\"NO\")"
   ]
  },
  {
   "cell_type": "code",
   "execution_count": null,
   "metadata": {},
   "outputs": [],
   "source": [
    "#SỐ XEN KẼ\n",
    "def check(s) :\n",
    "    if len(s) % 2 == 0 or s[0] == s[1] : return False\n",
    "    for i in range(2, len(s), 2) :\n",
    "        if s[i] != s[0] : return False\n",
    "    return True\n",
    "t = int(input())\n",
    "for i in range(t) :\n",
    "    s = input()\n",
    "    if check(s) == True : print(\"YES\")\n",
    "    else : print(\"NO\")"
   ]
  },
  {
   "cell_type": "code",
   "execution_count": null,
   "metadata": {},
   "outputs": [],
   "source": [
    "#CHẴN – LẺ - NGUYÊN TỐ\n",
    "import math\n",
    "def nto(n) :\n",
    "    if n < 2 : return False\n",
    "    for i in range(2, int(math.sqrt(n)) + 1) :\n",
    "        if n % i == 0 : return False\n",
    "    return True\n",
    "def check(s) :\n",
    "    x = 0\n",
    "    for i in range(len(s)) :\n",
    "        if (i % 2) != (int(s[i]) % 2) : return False\n",
    "        x += int(s[i])\n",
    "    if nto(x) == True : return True\n",
    "    else : return False\n",
    "t = int(input())\n",
    "for i in range(t) :\n",
    "    s = input()\n",
    "    if check(s) == True : print(\"YES\")\n",
    "    else : print(\"NO\")"
   ]
  },
  {
   "cell_type": "code",
   "execution_count": null,
   "metadata": {},
   "outputs": [],
   "source": [
    "#VỊ TRÍ NGUYÊN TỐ\n",
    "import math\n",
    "def nto(n) :\n",
    "    if n < 2 : return 0\n",
    "    for i in range(2, int(math.sqrt(n)) + 1) :\n",
    "        if n % i == 0 : return 0\n",
    "    return 1\n",
    "def check(s) :\n",
    "\tfor i in range(len(s)) :\n",
    "\t\tif nto(i) != nto(int(s[i])) : return 0\n",
    "\treturn 1\n",
    "t = int(input())\n",
    "for i in range(t) :\n",
    "\ts = input()\n",
    "\tif check(s) == 1 : print(\"YES\")\n",
    "\telse : print(\"NO\")"
   ]
  },
  {
   "cell_type": "code",
   "execution_count": null,
   "metadata": {},
   "outputs": [],
   "source": [
    "#ĐOẠN CUỐI NGUYÊN TỐ\n",
    "import math\n",
    "def nto(n) :\n",
    "    if n < 2 : return False\n",
    "    for i in range(2, int(math.sqrt(n)) + 1) :\n",
    "        if n % i == 0 : return False\n",
    "    return True\n",
    "t = int(input())\n",
    "for i in range(t) :\n",
    "    s = input()\n",
    "    if nto(int(s[-4::])) == True : print(\"YES\")\n",
    "    else : print(\"NO\")"
   ]
  },
  {
   "cell_type": "code",
   "execution_count": null,
   "metadata": {},
   "outputs": [],
   "source": [
    "#TỔNG CHỮ SỐ - TÍCH CHỮ SỐ\n",
    "t = int(input())\n",
    "for i in range(t) :\n",
    "    s = input()\n",
    "    s1 = 0\n",
    "    s2 = 1\n",
    "    ok = 0\n",
    "    for i in range(len(s)) :\n",
    "        if i % 2 == 0 : s1 += int(s[i])\n",
    "        else :\n",
    "            if s[i] != '0' :\n",
    "                ok = 1\n",
    "                s2 *= int(s[i])\n",
    "    if ok == 0 : s2 = 0\n",
    "    print(s1, s2)"
   ]
  },
  {
   "cell_type": "code",
   "execution_count": null,
   "metadata": {},
   "outputs": [],
   "source": [
    "#TÍCH CHỮ SỐ - TỔNG CHỮ SỐ\n",
    "t = int(input())\n",
    "for i in range(t) :\n",
    "    s = input()\n",
    "    s1 = 1\n",
    "    s2 = 0\n",
    "    ok = 0\n",
    "    for i in range(len(s)) :\n",
    "        if i % 2 == 0 :\n",
    "            if s[i] != '0' :\n",
    "                ok = 1\n",
    "                s1 *= int(s[i])\n",
    "        else : s2 += int(s[i])\n",
    "    if ok == 0 : s1 = 0\n",
    "    print(s1, s2)"
   ]
  },
  {
   "cell_type": "code",
   "execution_count": null,
   "metadata": {},
   "outputs": [],
   "source": [
    "#ĐẦU CUỐI NGUYÊN TỐ\n",
    "import math\n",
    "def nto(n) :\n",
    "    if n < 2 : return False\n",
    "    for i in range(2, int(math.sqrt(n)) + 1) :\n",
    "        if n % i == 0 : return False\n",
    "    return True\n",
    "t = int(input())\n",
    "for i in range(t) :\n",
    "    s = input()\n",
    "    if nto(int(s[:3:])) and nto(int(s[-3::])) : print(\"YES\")\n",
    "    else : print(\"NO\")"
   ]
  },
  {
   "cell_type": "code",
   "execution_count": null,
   "metadata": {},
   "outputs": [],
   "source": [
    "#ƯU THẾ NGUYÊN TỐ\n",
    "import math\n",
    "\n",
    "def nto(n) :\n",
    "    if n < 2 : return False\n",
    "    for i in range(2, int(math.sqrt(n)) + 1) :\n",
    "        if n % i == 0 : return False\n",
    "    return True\n",
    "def check(n) :\n",
    "    if nto(len(n)) == False : return False\n",
    "    s1 = 0\n",
    "    s2 = 0\n",
    "    for i in n :\n",
    "        if nto(int(i)) == True : s1 += 1\n",
    "        else : s2 += 1\n",
    "    if s1 > s2 : return True\n",
    "    return False\n",
    "t = int(input())\n",
    "for i in range(t) :\n",
    "    n = input()\n",
    "    if check(n) == True : print(\"YES\")\n",
    "    else : print(\"NO\")"
   ]
  }
 ],
 "metadata": {
  "language_info": {
   "name": "python"
  }
 },
 "nbformat": 4,
 "nbformat_minor": 2
}
