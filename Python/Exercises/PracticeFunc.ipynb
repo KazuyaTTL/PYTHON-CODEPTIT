{
 "cells": [
  {
   "cell_type": "code",
   "execution_count": 29,
   "metadata": {},
   "outputs": [
    {
     "name": "stdout",
     "output_type": "stream",
     "text": [
      "0\n",
      "9\n",
      "6\n",
      "3\n",
      "63\n",
      "2\n",
      "3\n",
      "1\n",
      "0\n",
      "726\n",
      "0\n",
      "1\n",
      "45\n"
     ]
    }
   ],
   "source": [
    "\"\"\"\n",
    "Cho số nguyên n không âm. Viết hàm xử lý các yêu cầu sau\n",
    "\n",
    "1. Kiểm tra n là số nguyên tố, nếu đúng in 1, sai in 0.\n",
    "2. In tổng chữ số của n.\n",
    "3. In tổng chữ số chẵn của n.\n",
    "4. In tổng chữ số của n là số nguyên tố.\n",
    "5. In số lật ngược của n. Ví dụ 123 in 321.\n",
    "6. In số lượng ước của n là số nguyên tố (làm tương tự như phân tích thừa số ng tố).\n",
    "7. In ước nguyên tố lớn nhất của n (làm tương tự như phân tích thừa số ng tố).\n",
    "8. Kiểm tra nếu n tồn tại ít nhất 1 số 6, nếu đúng in 1, sai in 0.\n",
    "9. Kiểm tra nếu tổng chữ số của n chia hết cho 8, nếu đúng in 1, sai in 0.\n",
    "10.Tính tổng giai thừa các chữ số của n và in ra. Ví dụ n = 123, tổng = 1! + 2! +3!\n",
    "11. Kiểm tra n có phải chỉ được tạo bởi 1 số hay không? Ví dụ 222, 333, 99999. Đúng in ra 1, sai in ra 0.\n",
    "12. Kiểm tra n có phải có chữ số tận cùng là lớn nhất hay không, tức là không có chữ số nào của n lớn hơn chữ số hàng đơn \n",
    "vị của nó. nếu đúng in 1, sai in 0.\n",
    "13. In tổng lũy thừa chữ số của n với số mũ là số chữ số. ví dụ 123 thì tính 1^3+2^3+3^3.\n",
    "\"\"\"\n",
    "from math import*\n",
    "n = int(input())\n",
    "# Ham kiem tra so nguyen to\n",
    "def ham1(n):\n",
    "    if n < 2 :\n",
    "        return False\n",
    "    for i in range(2,isqrt(n)+1):\n",
    "        if n % i == 0:\n",
    "            return False\n",
    "    return True\n",
    "####\n",
    "if ham1(n):\n",
    "    print(1)\n",
    "else:\n",
    "    print(0)\n",
    "# Ham tinh tong chu so cua n\n",
    "def ham2(n):\n",
    "    temp=0\n",
    "    while n != 0:\n",
    "        temp = temp + n % 10\n",
    "        n //= 10        \n",
    "    return temp\n",
    "###\n",
    "print(ham2(n))\n",
    "# Ham tinh tổng chữ số chẵn của n\n",
    "def ham3(n):\n",
    "    s = 0\n",
    "    while n != 0:\n",
    "        if (n % 10) % 2 == 0 :\n",
    "            s += (n % 10)\n",
    "        n //= 10\n",
    "    return s\n",
    "print(ham3(n))\n",
    "# In tổng chữ số của n là số nguyên tố.\n",
    "def ham4(n):\n",
    "    tong=0\n",
    "    while n != 0:\n",
    "        a = n % 10\n",
    "        n = n // 10\n",
    "        if a == 2 or a == 3 or a == 5 or a == 7:\n",
    "            tong += a\n",
    "    return(tong)\n",
    "print(ham4(n))\n",
    "#5.In số lật ngược của n. Ví dụ 123 in 321.\n",
    "def ham5(n):\n",
    "    lat=0\n",
    "    while n!=0:\n",
    "        lat=lat*10 + n%10\n",
    "        n=n//10\n",
    "    return lat\n",
    "print(ham5(n))   \n",
    "#6 In số lượng ước của n là số nguyên tố (làm tương tự như phân tích thừa số ng tố).\n",
    "def ham6(n):\n",
    "    uoc = 0\n",
    "    for i in range(2,isqrt(n)+1):\n",
    "        if n % i == 0:\n",
    "            uoc += 1\n",
    "            while n % i ==0:\n",
    "                n //= i\n",
    "    if n > 1:\n",
    "        uoc += 1\n",
    "    return uoc\n",
    "print(ham6(n))\n",
    "#7. In ước nguyên tố lớn nhất của n (làm tương tự như phân tích thừa số ng tố). \n",
    "def ham7(n):\n",
    "    A=[]\n",
    "    for i in range(2, isqrt(n) + 1):\n",
    "        if n % i == 0:\n",
    "            A.append(i) \n",
    "            while n % i == 0:\n",
    "                n //= i\n",
    "    return max(A)\n",
    "print(ham7(n))\n",
    "#8. Kiểm tra nếu n tồn tại ít nhất 1 số 6, nếu đúng in 1, sai in 0\n",
    "def ham8(n):\n",
    "    while n!=0:\n",
    "        chck = n % 10\n",
    "        return chck == 6\n",
    "        n = n // 10\n",
    "if ham8(n):\n",
    "    print(1)\n",
    "else:\n",
    "    print(0)  \n",
    "#9. Kiểm tra nếu tổng chữ số của n chia hết cho 8, nếu đúng in 1, sai in 0.\n",
    "def ham9(n):\n",
    "    tam = 0\n",
    "    while n!=0:\n",
    "        tam += n % 10\n",
    "        n = n // 10\n",
    "    return tam % 8 == 0 \n",
    "if ham9(n):\n",
    "    print(1)\n",
    "else:\n",
    "    print(0)\n",
    "#10 Tính tổng giai thừa các chữ số của n và in ra. Ví dụ n = 123, tổng = 1! + 2! +3!\n",
    "def ham10(n):\n",
    "    uet = 0\n",
    "    vnu=0\n",
    "    while n!=0:\n",
    "        uet = n % 10\n",
    "        vnu += factorial(uet)\n",
    "        n = n // 10\n",
    "    return vnu\n",
    "print(ham10(n))\n",
    "#11. Kiểm tra n có phải chỉ được tạo bởi 1 số hay không? Ví dụ 222, 333, 99999. Đúng in ra 1, sai in ra 0.\n",
    "def ham11(n):\n",
    "    cn16 = n % 10\n",
    "    while n != 0:\n",
    "        if n%10 != cn16:\n",
    "            return False  \n",
    "        n //= 10\n",
    "    return True\n",
    "if ham11(n):\n",
    "    print(1)\n",
    "else:\n",
    "    print(0)\n",
    "\"\"\" 12. Kiểm tra n có phải có chữ số tận cùng là lớn nhất hay không, tức là không có chữ số nào của n lớn hơn chữ số hàng \n",
    "đơn vị của nó. nếu đúng in 1, sai in 0.\n",
    "\"\"\"\n",
    "def ham12(n):\n",
    "    cn8 = n % 10 \n",
    "    while n != 0:\n",
    "        if n%10 > cn8:\n",
    "            return False  \n",
    "        n //= 10\n",
    "    return True\n",
    "if ham12(n):\n",
    "    print(1)\n",
    "else:\n",
    "    print(0)     \n",
    "#13. In tổng lũy thừa chữ số của n với số mũ là số chữ số. ví dụ 123 thì tính 1^3+2^3+3^3\n",
    "def ham13(n):\n",
    "    fit = str(n)\n",
    "    cn12=0\n",
    "    while n != 0 :\n",
    "        a = n%10\n",
    "        cn12 += a ** len(fit)\n",
    "        n //= 10\n",
    "    return cn12\n",
    "print(ham13(n)) "
   ]
  },
  {
   "cell_type": "code",
   "execution_count": 11,
   "metadata": {},
   "outputs": [
    {
     "name": "stdout",
     "output_type": "stream",
     "text": [
      "4321\n"
     ]
    }
   ],
   "source": [
    "#5.In số lật ngược của n. Ví dụ 123 in 321.\n",
    "n=int(input(\"Nhap gia tri cua n : \"))\n",
    "def ham5(n):\n",
    "    lat=0\n",
    "    while n!=0:\n",
    "        lat=lat*10 + n%10\n",
    "        n=n//10\n",
    "    return lat\n",
    "print(ham5(n))"
   ]
  },
  {
   "cell_type": "code",
   "execution_count": 17,
   "metadata": {},
   "outputs": [
    {
     "name": "stdout",
     "output_type": "stream",
     "text": [
      "2\n"
     ]
    }
   ],
   "source": [
    "#6 In số lượng ước của n là số nguyên tố (làm tương tự như phân tích thừa số ng tố).\n",
    "from math import*\n",
    "n = int(input(\"Nhap gia tri cua n \"))\n",
    "def ham6(n):\n",
    "    uoc = 0\n",
    "    for i in range(2,isqrt(n)+1):\n",
    "        if n % i == 0:\n",
    "            uoc += 1\n",
    "            while n % i ==0:\n",
    "                n //= i\n",
    "    if n > 1:\n",
    "        uoc += 1\n",
    "    return uoc\n",
    "print(ham6(n))\n",
    "\n",
    "\n",
    "\n"
   ]
  },
  {
   "cell_type": "code",
   "execution_count": 20,
   "metadata": {},
   "outputs": [
    {
     "name": "stdout",
     "output_type": "stream",
     "text": [
      "[2, 3, 5]\n"
     ]
    }
   ],
   "source": [
    "#7. In ước nguyên tố lớn nhất của n (làm tương tự như phân tích thừa số ng tố). \n",
    "n = int(input(\"Nhap gia tri cua n \"))\n",
    "def ham7(n):\n",
    "    a=[]\n",
    "    for i in range(2, isqrt(n) + 1):\n",
    "        if n % i == 0:\n",
    "            a.append(i) \n",
    "            while n % i == 0:\n",
    "                n //= i\n",
    "    return max(a)\n",
    "print(ham7(n))"
   ]
  },
  {
   "cell_type": "code",
   "execution_count": 23,
   "metadata": {},
   "outputs": [
    {
     "name": "stdout",
     "output_type": "stream",
     "text": [
      "1\n"
     ]
    }
   ],
   "source": [
    "#8. Kiểm tra nếu n tồn tại ít nhất 1 số 6, nếu đúng in 1, sai in 0\n",
    "n = int(input())\n",
    "def ham8(n):\n",
    "    while n!=0:\n",
    "        chck = n % 10\n",
    "        return chck == 6\n",
    "        n = n // 10\n",
    "if ham8(n):\n",
    "    print(1)\n",
    "else:\n",
    "    print(0)     "
   ]
  },
  {
   "cell_type": "code",
   "execution_count": 25,
   "metadata": {},
   "outputs": [
    {
     "name": "stdout",
     "output_type": "stream",
     "text": [
      "1\n"
     ]
    }
   ],
   "source": [
    "#9. Kiểm tra nếu tổng chữ số của n chia hết cho 8, nếu đúng in 1, sai in 0.\n",
    "n = int(input())\n",
    "def ham9(n):\n",
    "    tam = 0\n",
    "    while n!=0:\n",
    "        tam += n % 10\n",
    "        n = n // 10\n",
    "    return tam % 8 == 0 \n",
    "if ham9(n):\n",
    "    print(1)\n",
    "else:\n",
    "    print(0)\n",
    "    \n"
   ]
  },
  {
   "cell_type": "code",
   "execution_count": 6,
   "metadata": {},
   "outputs": [
    {
     "name": "stdout",
     "output_type": "stream",
     "text": [
      "4\n",
      "3\n",
      "2\n",
      "1\n",
      "33\n"
     ]
    }
   ],
   "source": [
    "# 10 Tính tổng giai thừa các chữ số của n và in ra. Ví dụ n = 123, tổng = 1! + 2! +3!\n",
    "from math import*\n",
    "n = int(input())\n",
    "def ham10(n):\n",
    "    uet = 0\n",
    "    vnu=0\n",
    "    while n!=0:\n",
    "        uet = n % 10\n",
    "        vnu += factorial(uet)\n",
    "        n = n // 10\n",
    "    return vnu\n",
    "####\n",
    "print(ham10(n))"
   ]
  },
  {
   "cell_type": "code",
   "execution_count": 27,
   "metadata": {},
   "outputs": [
    {
     "name": "stdout",
     "output_type": "stream",
     "text": [
      "1\n"
     ]
    }
   ],
   "source": [
    "\"\"\" 11. Kiểm tra n có phải chỉ được tạo bởi 1 số hay không? Ví dụ 222, 333, 99999. Đúng in ra 1, sai in ra 0.\"\"\"\n",
    "n=int(input())\n",
    "def ham11(n):\n",
    "    cn16 = n % 10\n",
    "    while n != 0:\n",
    "        if n%10 != cn16:\n",
    "            return False  \n",
    "        n //= 10\n",
    "    return True\n",
    "####\n",
    "if ham11(n):\n",
    "    print(1)\n",
    "else:\n",
    "    print(0)\n",
    "            \n"
   ]
  },
  {
   "cell_type": "code",
   "execution_count": 18,
   "metadata": {},
   "outputs": [
    {
     "name": "stdout",
     "output_type": "stream",
     "text": [
      "0\n"
     ]
    }
   ],
   "source": [
    "\"\"\" 12. Kiểm tra n có phải có chữ số tận cùng là lớn nhất hay không, tức là không có chữ số nào của n lớn hơn chữ số hàng đơn \n",
    "vị của nó. nếu đúng in 1, sai in 0.\n",
    "\"\"\"\n",
    "n=int(input(\"Nhap gia tri cua n : \"))\n",
    "def ham12(n):\n",
    "    cn8 = n % 10 \n",
    "    while n != 0:\n",
    "        if n%10 > cn8:\n",
    "            return False  \n",
    "        n //= 10\n",
    "    return True\n",
    "if ham12(n):\n",
    "    print(1)\n",
    "else:\n",
    "    print(0)        \n",
    "\n",
    "        \n",
    "\n",
    "    "
   ]
  },
  {
   "cell_type": "code",
   "execution_count": 37,
   "metadata": {},
   "outputs": [
    {
     "name": "stdout",
     "output_type": "stream",
     "text": [
      "3125\n",
      "4149\n",
      "4392\n",
      "4424\n",
      "4425\n",
      "4425\n"
     ]
    }
   ],
   "source": [
    "\"\"\" 13. In tổng lũy thừa chữ số của n với số mũ là số chữ số. ví dụ 123 thì tính 1^3+2^3+3^3. \"\"\"\n",
    "n = int(input())\n",
    "def ham13(n):\n",
    "    fit = str(n)\n",
    "    cn12=0\n",
    "    while n != 0 :\n",
    "        a = n%10\n",
    "        cn12 += a ** len(fit)\n",
    "        n //= 10\n",
    "    return cn12\n",
    "####\n",
    "print(ham13(n)) \n",
    "\n",
    "\n",
    "\n"
   ]
  }
 ],
 "metadata": {
  "kernelspec": {
   "display_name": "Python 3",
   "language": "python",
   "name": "python3"
  },
  "language_info": {
   "codemirror_mode": {
    "name": "ipython",
    "version": 3
   },
   "file_extension": ".py",
   "mimetype": "text/x-python",
   "name": "python",
   "nbconvert_exporter": "python",
   "pygments_lexer": "ipython3",
   "version": "3.11.5"
  }
 },
 "nbformat": 4,
 "nbformat_minor": 2
}
