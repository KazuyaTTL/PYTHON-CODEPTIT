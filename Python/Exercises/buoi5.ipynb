{
 "cells": [
  {
   "cell_type": "code",
   "execution_count": 1,
   "metadata": {},
   "outputs": [
    {
     "name": "stdout",
     "output_type": "stream",
     "text": [
      "Tam biet ban\n",
      "Xin chao ban\n",
      "Xin chao ban\n",
      "Xin chao ban\n",
      "Xin chao ban\n",
      "Tam biet ban\n"
     ]
    }
   ],
   "source": [
    "\"\"\"\n",
    "Exercises: 1. Cho một danh sách lớp gồm N tên sinh viên. Duyệt lần lượt các tên sinh viên trong danh sách: \n",
    "1.1. Nếu độ dài tên là số chẵn thì in ra: “Xin chào bạn ” \n",
    "1.2. Nếu tên sinh viên có số kí tự là lẻ thì in ra: “Tạm biệt bạn ” \n",
    "\"\"\"\n",
    "names = [\"A\", \"BB\", \"CCCC\", \"DDDD\", \"EF\", \"F\"] \n",
    "for i in names:\n",
    "    a=len(i)\n",
    "    if a%2==0:\n",
    "        print(\"Xin chao ban\")\n",
    "    else:\n",
    "        print(\"Tam biet ban\")"
   ]
  },
  {
   "cell_type": "code",
   "execution_count": 15,
   "metadata": {},
   "outputs": [
    {
     "name": "stdout",
     "output_type": "stream",
     "text": [
      "58\n",
      "52\n"
     ]
    }
   ],
   "source": [
    "\"\"\"\n",
    "2. Cho danh sách gồm N số nguyên, in ra tổng các số có thứ tự (index) chẵn và tổng các số có thứ tự (index) \n",
    "lẻ trong danh sách. \n",
    "\"\"\"\n",
    "numbers = [1, 2, 3, 5, 9, 15, 18, 36, 21] \n",
    "tongchan=0\n",
    "tongle=0\n",
    "a=len(numbers)\n",
    "for i in range(a):\n",
    "    b=numbers[i]\n",
    "    if i % 2 == 0:\n",
    "        tongchan+=b\n",
    "    else:\n",
    "        tongle+=b\n",
    "print(tongle)\n",
    "print(tongchan)\n",
    "\n"
   ]
  },
  {
   "cell_type": "code",
   "execution_count": 23,
   "metadata": {},
   "outputs": [
    {
     "name": "stdout",
     "output_type": "stream",
     "text": [
      "a\n",
      "b\n",
      "e\n",
      "a\n",
      "\n",
      "e b a "
     ]
    }
   ],
   "source": [
    "\"\"\"\n",
    "3. Cho 2 danh sách a,b gồm M và N phần tử, in ra các phần tử chung của 2 mảng. \n",
    "\"\"\"\n",
    "a = [\"a\", \"b\", \"c\", \"e\", \"f\", \"k\", \"a\"] \n",
    "b = [\"a\", \"b\", \"e\", \"g\", \"m\"] \n",
    "for i in a:\n",
    "    for j in b:\n",
    "        if j==i:\n",
    "            print(j)\n",
    "print() \n",
    "a = list(set(a)) \n",
    "for i in a: \n",
    "    if i in b: \n",
    "        print(i, end=\" \") \n"
   ]
  },
  {
   "cell_type": "code",
   "execution_count": 30,
   "metadata": {},
   "outputs": [
    {
     "name": "stdout",
     "output_type": "stream",
     "text": [
      "There are 6 countries in the list\n",
      "Vietnam France Netherland Singapore Spain England \n",
      "['Vietnam', 'France', 'Netherland', 'Singapore', 'Spain', 'England']\n",
      "['England', 'France', 'Netherland', 'Singapore', 'Spain', 'Vietnam']\n"
     ]
    }
   ],
   "source": [
    "\"\"\"\n",
    "Exercise 1: Suy nghĩ về ít nhất 5 địa điểm bạn muốn tham quan trên thế giới. - \n",
    "Tạo một danh sách chứa tên các địa điểm trên theo thứ tự ngẫu nhiên. - In ra số các địa điểm trong danh sách trên. - \n",
    "In lần lượt các địa điểm trong danh sách ra màn hình trên cùng một dòng, cách nhau bởi một khoảng trắng. - \n",
    "In ra danh sách trên đã được sắp xếp. \n",
    "\"\"\"\n",
    "countries = [\"Vietnam\", \"France\", \"Netherland\", \"Singapore\", \"Spain\", \"England\"]\n",
    "print(\"There are %d countries in the list\"%len(countries)) \n",
    "for country in countries: \n",
    "    print(country, end=\" \") \n",
    "print() \n",
    "sorted_countries = sorted(countries) \n",
    "print(countries) \n",
    "print(sorted_countries) \n"
   ]
  },
  {
   "cell_type": "code",
   "execution_count": 37,
   "metadata": {},
   "outputs": [
    {
     "name": "stdout",
     "output_type": "stream",
     "text": [
      "Invitation to :  A\n",
      "Invitation to :  B\n",
      "Invitation to :  C\n",
      "Invitation to :  D\n",
      "Invitation to :  E\n",
      "['A', 'D', 'E', 'G', 'H', 'K']\n",
      "Sorry:  K\n",
      "Sorry:  H\n",
      "Official guests:  ['A', 'D', 'E', 'G']\n",
      "All guests :  ['A', 'K', 'C', 'D', 'F', 'E']\n",
      "Removed :  ['F', 'E']\n",
      "Official :  ['A', 'C', 'D', 'K']\n"
     ]
    }
   ],
   "source": [
    "\"\"\"\n",
    "Exercises 2: \n",
    "1. Tạo một danh sách guests gồm ít nhất 5 người (tên người) bạn muốn mời đi tham gia sự kiện cùng. \n",
    "In ra lời mời cho mỗi người với định dạng: Invitation to \n",
    "2. Có một số sự thay đổi trong danh sách người tham dự sự kiện, \n",
    "một số người từ chối tham gia trong khi một số người khác muốn tham gia. Tạo danh sách A chứa các thành viên không tham \n",
    "gia và danh sách B chứa các thành viên mới tham gia. In ra danh sách guest cuối cùng sau khi đã xem xét cả danh sách A \n",
    "và B. \n",
    "3. Giả sử danh sách các khách mời hiện tại được sắp xếp theo thứ tự ưu tiên. Một tình huống mới phát sinh, sự kiện\n",
    "chỉ giới hạn N khách và nhiệm vụ của bạn là gửi tin nhắn xin lỗi tới những khách không thể tới trong danh sách và in \n",
    "ra danh sách tên của khách mời chính thức được sắp xếp theo thứ tự Alphabet. \n",
    "\n",
    "\"\"\"\n",
    "#1\n",
    "guests = [\"A\", \"B\", \"C\", \"D\", \"E\"] \n",
    "for guest in guests: \n",
    "    print(\"Invitation to : \", guest) \n",
    "#2\n",
    "A = [\"B\", \"C\"] \n",
    "B = [\"G\", \"H\", \"K\"] \n",
    "for a in A: \n",
    "    guests.remove(a) \n",
    "for b in B: \n",
    "    guests.append(b) \n",
    "# guests.extend(B) \n",
    "print(guests) \n",
    "#3\n",
    "N = 4 \n",
    "M = len(guests) \n",
    "while len(guests) != N: \n",
    "    removed_guest = guests.pop() \n",
    "    print(\"Sorry: \", removed_guest) \n",
    "guests.sort() \n",
    "print(\"Official guests: \", guests) \n",
    "#\n",
    "guests = [\"A\", \"K\", \"C\", \"D\", \"F\", \"E\"] \n",
    "removed_guests = guests[N:] \n",
    "official = guests[0:N] \n",
    "print(\"All guests : \", guests) \n",
    "print(\"Removed : \", removed_guests) \n",
    "print(\"Official : \", sorted(official)) \n",
    "\n"
   ]
  },
  {
   "cell_type": "code",
   "execution_count": 9,
   "metadata": {},
   "outputs": [
    {
     "name": "stdout",
     "output_type": "stream",
     "text": [
      "7\n"
     ]
    }
   ],
   "source": [
    "# m=n*(1+x/100)**t\n",
    "from math import log\n",
    "def tinh_so_nam(n, x, m):\n",
    "    t = log(m / n) / log(1 + x / 100)\n",
    "    return round(t)\n",
    "# Ví dụ:\n",
    "m, n, x = map(int, input().split())\n",
    "print(tinh_so_nam(m, n, x)) "
   ]
  },
  {
   "cell_type": "code",
   "execution_count": 10,
   "metadata": {},
   "outputs": [
    {
     "name": "stdout",
     "output_type": "stream",
     "text": [
      "8\n"
     ]
    }
   ],
   "source": [
    "def tinh_so_nam(N, X, M):\n",
    "    so_nam = 0\n",
    "    while N < M:\n",
    "        N += N * (X / 100)\n",
    "        so_nam += 1\n",
    "    return so_nam\n",
    "\n",
    "# Ví dụ:\n",
    "n, x, m =map(int, input().split())\n",
    "print(tinh_so_nam(n, x, m))  # Kết quả: 8"
   ]
  },
  {
   "cell_type": "code",
   "execution_count": null,
   "metadata": {},
   "outputs": [],
   "source": [
    "\n"
   ]
  }
 ],
 "metadata": {
  "kernelspec": {
   "display_name": "Python 3",
   "language": "python",
   "name": "python3"
  },
  "language_info": {
   "codemirror_mode": {
    "name": "ipython",
    "version": 3
   },
   "file_extension": ".py",
   "mimetype": "text/x-python",
   "name": "python",
   "nbconvert_exporter": "python",
   "pygments_lexer": "ipython3",
   "version": "3.11.5"
  }
 },
 "nbformat": 4,
 "nbformat_minor": 2
}
