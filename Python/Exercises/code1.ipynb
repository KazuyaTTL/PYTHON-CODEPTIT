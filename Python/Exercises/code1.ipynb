{
 "cells": [
  {
   "cell_type": "code",
   "execution_count": 15,
   "metadata": {},
   "outputs": [
    {
     "name": "stdout",
     "output_type": "stream",
     "text": [
      "86\n",
      "369360\n"
     ]
    }
   ],
   "source": [
    "\"\"\"\n",
    "Bài 1 : Viết chương trình tính tổng và tích các số trong một mảng \n",
    "\"\"\"\n",
    "list=[1,3,57,5,8,3,6,3]\n",
    "tong=0\n",
    "tich=1\n",
    "for i in list:\n",
    "    tong+=i\n",
    "    tich*=i\n",
    "print(tong)\n",
    "print(tich)"
   ]
  },
  {
   "cell_type": "code",
   "execution_count": 11,
   "metadata": {},
   "outputs": [
    {
     "name": "stdout",
     "output_type": "stream",
     "text": [
      "So lon nhat :  57\n",
      "So nho nhat :  1\n"
     ]
    }
   ],
   "source": [
    "\"\"\"\n",
    "Bài 2: Viết chương trình in ra số lớn nhất và số nhỏ nhất trong một mảng\n",
    "\"\"\"\n",
    "list=[1,3,57,5,8,3,6,3]\n",
    "print(\"So lon nhat : \",max(list))\n",
    "print(\"So nho nhat : \",min(list))\n"
   ]
  },
  {
   "cell_type": "code",
   "execution_count": 2,
   "metadata": {},
   "outputs": [
    {
     "name": "stdout",
     "output_type": "stream",
     "text": [
      "[3, 5, 8, 3, 6, 3]\n",
      "8\n",
      "3\n"
     ]
    }
   ],
   "source": [
    "# Bài 3: Viết chương trình in ra số lớn thứ hai và số nhỏ thứ hai trong một mảng\n",
    "list=[1,3,57,5,8,3,6,3,57,1,57,1]\n",
    "a=[x for x in list if x!=max(list) and x!=min(list)]\n",
    "print(max(a))\n",
    "print(min(a))"
   ]
  },
  {
   "cell_type": "code",
   "execution_count": 4,
   "metadata": {},
   "outputs": [
    {
     "name": "stdout",
     "output_type": "stream",
     "text": [
      "[1, 3, 57, 5, 8, 6]\n"
     ]
    }
   ],
   "source": [
    "\"\"\" Bài 4: Viết chương trình loại bỏ các phần tử n bị trùng lặp trong một mảng theo 2 cách: \n",
    "sử dụng set và không sử dụng set \"\"\"\n",
    "#Cách 1: Sử dụng set\n",
    "l=[1,3,57,5,8,3,6,3,57,1,57,1]\n",
    "print(sorted(set(l), key=l.index))\n",
    "\n",
    "\n",
    "\n"
   ]
  },
  {
   "cell_type": "code",
   "execution_count": 20,
   "metadata": {},
   "outputs": [
    {
     "name": "stdout",
     "output_type": "stream",
     "text": [
      "None\n"
     ]
    }
   ],
   "source": [
    "#Cách 2:Không sử dụng set\n",
    "l=[1,3,57,5,8,3,6,3,57,1,57,1]\n",
    "a=[]\n",
    "for i in l:\n",
    "    if i not in a:\n",
    "        a.append(i)\n",
    "print(a)"
   ]
  },
  {
   "cell_type": "code",
   "execution_count": 26,
   "metadata": {},
   "outputs": [
    {
     "name": "stdout",
     "output_type": "stream",
     "text": [
      "3\n"
     ]
    }
   ],
   "source": [
    "#Bài 9:Viết chương trình lấy một số ngẫu nhiên từ một mảng sử dụng random.choice()\n",
    "import random\n",
    "l=[1,3,5,6,3,4,9]\n",
    "print(random.choice(l))"
   ]
  },
  {
   "cell_type": "code",
   "execution_count": 5,
   "metadata": {},
   "outputs": [
    {
     "name": "stdout",
     "output_type": "stream",
     "text": [
      "3\n",
      "3\n",
      "3\n",
      "1\n",
      "1\n",
      "3\n",
      "1\n",
      "3\n",
      "3\n",
      "3\n",
      "3\n",
      "3\n"
     ]
    }
   ],
   "source": [
    "#Bài 10: Viết chương trình in ra số lần xuất hiện của từng phần tử trong một mảng \n",
    "l=[1,3,57,5,8,3,6,3,57,1,57,1]\n",
    "for i in l:\n",
    "    print(l.count(i))"
   ]
  },
  {
   "cell_type": "code",
   "execution_count": null,
   "metadata": {},
   "outputs": [],
   "source": [
    "#Bài 12: Viết chương trình kiểm tra tất cả các phần tử trong mảng có nằm trong khoảng M, N không \n",
    "a=[0,1,2,3,4,5,6,7,8]\n",
    "m=int(input(\"Nhap gia tri cua m : \"))\n",
    "n=int(input(\"Nhap gia tri cua n : \"))\n",
    "if m<n:\n",
    "    for i in a:\n",
    "        if i in range(m,n+1):\n",
    "            print(\"Phan tu nam trong khoang M,N : \",i)\n",
    "        else:\n",
    "            print(\"Phan tu khong nam trong khoang M,N : \",i)\n",
    "if m>n:\n",
    "    for i in a:\n",
    "        if i in range(n,m+1):\n",
    "            print(\"Phan tu nam trong khoang M,N : \",i)\n",
    "        else:\n",
    "            print(\"Phan tu khong nam trong khoang M,N : \",i)"
   ]
  },
  {
   "cell_type": "code",
   "execution_count": null,
   "metadata": {},
   "outputs": [],
   "source": [
    "#Bài 15. Viết chương trình kiểm tra tất cả các số trong một mảng có phải là số nguyên tố không (*) \n",
    "a=[0,1,2,3,4,5,6,7,8]\n",
    "for n in a:\n",
    "    check= True\n",
    "    if n<2:\n",
    "        check=False\n",
    "    for i in range(2,n//2+1):\n",
    "        if n%i==0:\n",
    "            check=False\n",
    "    if check==True:\n",
    "        print(\"Voi n = \",n)\n",
    "        print(\"True\")\n",
    "    else:\n",
    "        print(\"Voi n = \",n)\n",
    "        print(\"False\")\n",
    "        \n",
    "        \n",
    "  "
   ]
  }
 ],
 "metadata": {
  "kernelspec": {
   "display_name": "Python 3",
   "language": "python",
   "name": "python3"
  },
  "language_info": {
   "codemirror_mode": {
    "name": "ipython",
    "version": 3
   },
   "file_extension": ".py",
   "mimetype": "text/x-python",
   "name": "python",
   "nbconvert_exporter": "python",
   "pygments_lexer": "ipython3",
   "version": "3.11.5"
  }
 },
 "nbformat": 4,
 "nbformat_minor": 2
}
