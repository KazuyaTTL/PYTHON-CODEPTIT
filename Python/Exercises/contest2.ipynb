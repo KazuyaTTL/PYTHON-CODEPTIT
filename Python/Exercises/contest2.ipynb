{
 "cells": [
  {
   "cell_type": "code",
   "execution_count": 2,
   "metadata": {
    "notebookRunGroups": {
     "groupValue": ""
    }
   },
   "outputs": [
    {
     "name": "stdout",
     "output_type": "stream",
     "text": [
      "1\n"
     ]
    }
   ],
   "source": [
    "#B15: Nhập n không âm không quá 15, tính và in ra n!\n",
    "n=int(input())\n",
    "giaithua=1\n",
    "for i in range(n,1,-1):\n",
    "    giaithua*=i\n",
    "print(giaithua)"
   ]
  },
  {
   "cell_type": "code",
   "execution_count": 3,
   "metadata": {
    "notebookRunGroups": {
     "groupValue": ""
    }
   },
   "outputs": [
    {
     "name": "stdout",
     "output_type": "stream",
     "text": [
      "1\n"
     ]
    }
   ],
   "source": [
    "#B16: Nhập vào n, đếm số lượng chữ số của n và in ra kết quả.\n",
    "n = int(input())\n",
    "if n == 0:\n",
    "    print(1)\n",
    "else:\n",
    "    dem = 0\n",
    "    while n != 0 :\n",
    "        n = n // 10\n",
    "        dem += 1\n",
    "    print(dem)"
   ]
  },
  {
   "cell_type": "code",
   "execution_count": 4,
   "metadata": {
    "notebookRunGroups": {
     "groupValue": ""
    },
    "tags": []
   },
   "outputs": [
    {
     "name": "stdout",
     "output_type": "stream",
     "text": [
      "3\n"
     ]
    }
   ],
   "source": [
    "#B17: Nhập vào n, tính tổng các chữ số của n, và in ra kết quả\n",
    "n = int(input())\n",
    "s = 0\n",
    "while n != 0:\n",
    "    s = s + n % 10\n",
    "    n = n // 10\n",
    "print(s)\n"
   ]
  },
  {
   "cell_type": "code",
   "execution_count": 17,
   "metadata": {},
   "outputs": [
    {
     "name": "stdout",
     "output_type": "stream",
     "text": [
      "3\n"
     ]
    }
   ],
   "source": [
    "#B18: Nhập vào n nguyên. Đếm số lượng chữ số của n là số nguyên tố.\n",
    "n=int(input(\"Nhap gia tri cua n : \"))\n",
    "dem=0\n",
    "while n!=0:\n",
    "    a=n%10\n",
    "    n=n//10\n",
    "    if a==2 or a==3 or a==5 or a==7:\n",
    "        dem+=1\n",
    "print(dem)"
   ]
  },
  {
   "cell_type": "code",
   "execution_count": 1,
   "metadata": {},
   "outputs": [
    {
     "name": "stdout",
     "output_type": "stream",
     "text": [
      "20\n",
      "2 2 2 2 2 2 2 2 2 2 2 2 2 2 2 2 2 2 2 3\n"
     ]
    }
   ],
   "source": [
    "\"\"\" B20:\n",
    "Cho một số nguyên dương n, hãy biểu diễn n dưới dạng tổng của các số nguyên tố sao cho số lượng số hạng trong tổng là \n",
    "lớn nhất có thể.\n",
    "\"\"\"\n",
    "\"\"\"\n",
    "Input Format: Số nguyên dương N trên 1 dòng\n",
    "Output Format: Dòng đầu tiên in ra số lượng số hạng trong tổng. Nếu không thể biểu diễn n dưới dạng tổng các số nguyên \n",
    "tố thì in ra -1 cho dòng này và không cần in dòng 2. Dòng 2 in ra các số hạng trong tổng theo thứ tự tăng dần.\n",
    "\n",
    "\"\"\"\n",
    "n=int(input())\n",
    "if n==1:\n",
    "    print(-1)\n",
    "#Xác định xem n chắn hay lẻ\n",
    "\n",
    "elif n%2==0:       #Nếu n chẵn\n",
    "    print(n//2)    #in ra số lượng số hạng trong tổng\n",
    "    for i in range(0,n//2):\n",
    "        print(2, end =\" \")\n",
    "\n",
    "else:              #Nếu n lẻ\n",
    "    print(n//2)    #in ra số lượng số hạng trong tổng\n",
    "    for i in range(0,n//2-1):\n",
    "        print(2, end =\" \")\n",
    "    print(3)"
   ]
  },
  {
   "cell_type": "code",
   "execution_count": 52,
   "metadata": {},
   "outputs": [
    {
     "name": "stdout",
     "output_type": "stream",
     "text": [
      "*****\n",
      "*****\n",
      "*****\n",
      "*****\n",
      "*****\n",
      "\n",
      "*****\n",
      "*   *\n",
      "*   *\n",
      "*   *\n",
      "*****\n",
      "\n",
      "*****\n",
      "*###*\n",
      "*###*\n",
      "*###*\n",
      "*****\n",
      "\n",
      "1 1 1 1 1 \n",
      "2       2 \n",
      "3       3 \n",
      "4       4 \n",
      "5 5 5 5 5 \n"
     ]
    }
   ],
   "source": [
    "#B21:\n",
    "n=int(input())\n",
    "for i in range(n):    \n",
    "    print(\"*\"*n)\n",
    "print()\n",
    "for i in range(n):\n",
    "    # Vẽ từng cột\n",
    "    for j in range(n):\n",
    "        # Nếu đây là dòng đầu tiên, dòng cuối cùng, cột đầu tiên hoặc cột cuối cùng, in '*'\n",
    "        if i in [0, n-1] or j in [0, n-1]:\n",
    "            print('*', end='')\n",
    "        else:\n",
    "            print(' ', end='')\n",
    "    print()\n",
    "print()\n",
    "for i in range(n):\n",
    "    # Vẽ từng cột\n",
    "    for j in range(n):\n",
    "        # Nếu đây là dòng đầu tiên, dòng cuối cùng, cột đầu tiên hoặc cột cuối cùng, in '*'\n",
    "        if i in [0, n-1] or j in [0, n-1]:\n",
    "            print('*', end='')\n",
    "        else:\n",
    "            print('#', end='')\n",
    "    print()\n",
    "print()\n",
    "for i in range(1, n+1):\n",
    "    for j in range(1, n+1):\n",
    "        if i == 1 or i == n or j == 1 or j == n:\n",
    "            print(i, end=' ')\n",
    "        else:\n",
    "            print(' ', end=' ')\n",
    "    print()\n",
    "\n",
    "\n"
   ]
  },
  {
   "cell_type": "code",
   "execution_count": 18,
   "metadata": {},
   "outputs": [
    {
     "name": "stdout",
     "output_type": "stream",
     "text": [
      "***** \n",
      "***** \n",
      "***** \n",
      "***** \n",
      "***** \n",
      " \n"
     ]
    }
   ],
   "source": [
    "\"\"\"\n",
    "\n",
    "*****\n",
    "*****\n",
    "*****\n",
    "*****\n",
    "*****\n",
    "\n",
    "\"\"\"\n",
    "n=int(input())\n",
    "for i in range(n):\n",
    "    for j in range(n):\n",
    "        print(\"*\",end=\"\")\n",
    "    print(\" \")\n",
    "print(\" \")\n"
   ]
  },
  {
   "cell_type": "code",
   "execution_count": 6,
   "metadata": {},
   "outputs": [
    {
     "name": "stdout",
     "output_type": "stream",
     "text": [
      "******\n",
      "*    *\n",
      "*    *\n",
      "*    *\n",
      "*    *\n",
      "******\n",
      "\n"
     ]
    }
   ],
   "source": [
    "\"\"\"\n",
    "     \n",
    "*****\n",
    "*   *\n",
    "*   *\n",
    "*   *\n",
    "*****\n",
    "\n",
    "\"\"\"\n",
    "n=int(input())\n",
    "for i in range(n):\n",
    "    for j in range(n):\n",
    "        if i == 0 or i == n-1 or j == 0 or j == n-1:\n",
    "            print(\"*\",end=\"\")\n",
    "        else:\n",
    "            print(\" \",end=\"\")\n",
    "    print()\n",
    "print()"
   ]
  },
  {
   "cell_type": "code",
   "execution_count": 16,
   "metadata": {},
   "outputs": [
    {
     "name": "stdout",
     "output_type": "stream",
     "text": [
      "****\n",
      "*  *\n",
      "*  *\n",
      "*  *\n",
      "****\n"
     ]
    }
   ],
   "source": [
    "# Số dòng và cột của hình\n",
    "rows =int(input())\n",
    "cols =int(input()) \n",
    "\n",
    "# Vẽ từng dòng\n",
    "for i in range(rows):\n",
    "    # Vẽ từng cột\n",
    "    for j in range(cols):\n",
    "        # Nếu đây là dòng đầu tiên, dòng cuối cùng, cột đầu tiên hoặc cột cuối cùng, in '*'\n",
    "        if i in [0, rows-1] or j in [0, cols-1]:\n",
    "            print('*', end='')\n",
    "        else:\n",
    "            print(' ', end='')\n",
    "    print()"
   ]
  },
  {
   "cell_type": "code",
   "execution_count": 44,
   "metadata": {},
   "outputs": [
    {
     "name": "stdout",
     "output_type": "stream",
     "text": [
      "*****\n",
      "*###*\n",
      "*###*\n",
      "*###*\n",
      "*****\n"
     ]
    }
   ],
   "source": [
    "\"\"\"\n",
    "\n",
    "*****\n",
    "*###*\n",
    "*###*\n",
    "*###*\n",
    "*****\n",
    "\n",
    "\"\"\"\n",
    "rows =int(input())\n",
    "cols =int(input()) \n",
    "\n",
    "# Vẽ từng dòng\n",
    "for i in range(rows):\n",
    "    # Vẽ từng cột\n",
    "    for j in range(cols):\n",
    "        # Nếu đây là dòng đầu tiên, dòng cuối cùng, cột đầu tiên hoặc cột cuối cùng, in '*'\n",
    "        if i in [0, rows-1] or j in [0, cols-1]:\n",
    "            print('*', end='')\n",
    "        else:\n",
    "            print('#', end='')\n",
    "    print()"
   ]
  },
  {
   "cell_type": "code",
   "execution_count": 34,
   "metadata": {},
   "outputs": [
    {
     "name": "stdout",
     "output_type": "stream",
     "text": [
      "1 1 1 1 1 \n",
      "2       2 \n",
      "3       3 \n",
      "4       4 \n",
      "5 5 5 5 5 \n"
     ]
    }
   ],
   "source": [
    "\"\"\"\n",
    "\n",
    "1 1 1 1 1 \n",
    "2       2 \n",
    "3       3 \n",
    "4       4 \n",
    "5 5 5 5 5\n",
    "\n",
    "\"\"\"\n",
    "n = int(input(\"Nhập vào số n: \"))\n",
    "#Vẽ hàng\n",
    "for i in range(1, n+1):\n",
    "    #Vẽ cột\n",
    "    for j in range(1, n+1):\n",
    "        #Vẽ hàng 1,hàng i, cột 1, cột j\n",
    "        if i == 1 or i == n or j == 1 or j == n:\n",
    "            print(i, end=' ')\n",
    "        else:\n",
    "            print(' ', end=' ')\n",
    "    print()\n",
    "\n"
   ]
  },
  {
   "cell_type": "code",
   "execution_count": 54,
   "metadata": {},
   "outputs": [
    {
     "name": "stdout",
     "output_type": "stream",
     "text": [
      " ** ** \n",
      "*  *  *\n",
      "*     *\n",
      " *   * \n",
      "  * *  \n",
      "   *   \n"
     ]
    }
   ],
   "source": [
    "#Heart\n",
    "for row in range(6):\n",
    "    for col in range(7):\n",
    "        if (row == 0 and col % 3 != 0) or (row == 1 and col % 3 == 0) or (row - col == 2) or (row + col == 8):\n",
    "            print(\"*\", end=\"\")\n",
    "        else:\n",
    "            print(\" \", end=\"\")\n",
    "    print()"
   ]
  },
  {
   "cell_type": "code",
   "execution_count": 12,
   "metadata": {},
   "outputs": [
    {
     "name": "stdout",
     "output_type": "stream",
     "text": [
      "*\n",
      "**\n",
      "***\n",
      "****\n",
      "*****\n",
      "******\n",
      "\n",
      "******\n",
      "*****\n",
      "****\n",
      "***\n",
      "**\n",
      "*\n",
      "\n",
      "      *\n",
      "     **\n",
      "    ***\n",
      "   ****\n",
      "  *****\n",
      " ******\n",
      "\n",
      " ******\n",
      "  *****\n",
      "   ****\n",
      "    ***\n",
      "     **\n",
      "      *\n",
      "       \n",
      "*     \n",
      "**    \n",
      "* *   \n",
      "*  *  \n",
      "*   * \n",
      "******\n"
     ]
    }
   ],
   "source": [
    "\"\"\" B22:\n",
    "Nhập n là một số nguyên không quá 100. In ra các hình tương ứng, mỗi hình cách nhau một dòng trống.\n",
    "\n",
    "*\n",
    "**\n",
    "***\n",
    "****\n",
    "*****\n",
    "\n",
    "*****\n",
    "****\n",
    "***\n",
    "**\n",
    "*\n",
    "\n",
    "    *\n",
    "   **\n",
    "  ***\n",
    " ****\n",
    "*****\n",
    "\n",
    "*****\n",
    " ****\n",
    "  ***\n",
    "   **\n",
    "    *\n",
    "\n",
    "*\n",
    "**\n",
    "* *\n",
    "*  *\n",
    "*****\n",
    "\n",
    "\"\"\"\n",
    "n=int(input())\n",
    "a=0\n",
    "for i in range(1,n+1):\n",
    "    a+=1\n",
    "    print(\"*\"*a)\n",
    "    if a==n:\n",
    "        print()\n",
    "        print(\"*\"*a)\n",
    "        for j in range(1,n+1):\n",
    "            a-=1\n",
    "            print(\"*\"*a)\n",
    "for i in range(1,n+1):\n",
    "    a+=1\n",
    "    print(\" \"*(n-i),\"*\"*a)\n",
    "    if a==n:\n",
    "        print()\n",
    "        print(\"\",\"*\"*a)\n",
    "for j in range(1,n+1):\n",
    "    a-=1\n",
    "    print(\" \"*(j),\"*\"*a)\n",
    "for i in range(n):\n",
    "    for j in range(n):\n",
    "        if j == 0 or j == i or i == n - 1:\n",
    "            print(\"*\", end=\"\")\n",
    "        else:\n",
    "            print(\" \", end=\"\")\n",
    "    print()"
   ]
  },
  {
   "cell_type": "code",
   "execution_count": 13,
   "metadata": {},
   "outputs": [
    {
     "name": "stdout",
     "output_type": "stream",
     "text": [
      "*\n",
      "**\n",
      "***\n",
      "****\n",
      "*****\n",
      "\n",
      "*****\n",
      "****\n",
      "***\n",
      "**\n",
      "*\n",
      "\n"
     ]
    }
   ],
   "source": [
    "\"\"\"\n",
    "\n",
    "*\n",
    "**\n",
    "***\n",
    "****\n",
    "*****\n",
    "\n",
    "*****\n",
    "****\n",
    "***\n",
    "**\n",
    "*\n",
    "\n",
    "\"\"\"\n",
    "\n",
    "\n",
    "\n",
    "n=int(input(\"Nhap so dong \"))\n",
    "a=0\n",
    "for i in range(1,n+1):\n",
    "    a+=1\n",
    "    print(\"*\"*a)\n",
    "    if a==n:\n",
    "        print()\n",
    "        print(\"*\"*a)\n",
    "        for j in range(1,n+1):\n",
    "            a-=1\n",
    "            print(\"*\"*a)\n"
   ]
  },
  {
   "cell_type": "code",
   "execution_count": 15,
   "metadata": {},
   "outputs": [
    {
     "name": "stdout",
     "output_type": "stream",
     "text": [
      "     *\n",
      "    **\n",
      "   ***\n",
      "  ****\n",
      " *****\n",
      "\n",
      " *****\n",
      "  ****\n",
      "   ***\n",
      "    **\n",
      "     *\n",
      "      \n"
     ]
    }
   ],
   "source": [
    "\"\"\"\n",
    "    *\n",
    "   **\n",
    "  ***\n",
    " ****\n",
    "*****\n",
    "\n",
    "*****\n",
    " ****\n",
    "  ***\n",
    "   **\n",
    "    *\n",
    "\"\"\"\n",
    "n=int(input(\"Nhap so dong \"))\n",
    "a=0\n",
    "for i in range(1,n+1):\n",
    "    a+=1\n",
    "    print(\" \"*(n-i),\"*\"*a)\n",
    "    if a==n:\n",
    "        print()\n",
    "        print(\"\",\"*\"*a)\n",
    "for j in range(1,n+1):\n",
    "    a-=1\n",
    "    print(\" \"*(j),\"*\"*a)\n",
    "\n"
   ]
  },
  {
   "cell_type": "code",
   "execution_count": 64,
   "metadata": {},
   "outputs": [
    {
     "name": "stdout",
     "output_type": "stream",
     "text": [
      "*    \n",
      "**   \n",
      "* *  \n",
      "*  * \n",
      "*****\n"
     ]
    }
   ],
   "source": [
    "\"\"\"\n",
    "\n",
    "*\n",
    "**\n",
    "* *\n",
    "*  *\n",
    "*****\n",
    "\n",
    "\"\"\"\n",
    "n = int(input(\"Nhập giá trị n: \"))\n",
    "for i in range(1,n+1):\n",
    "    #Dong i: lap i lan\n",
    "    for j in range(1,i+1):\n",
    "        if i == 1 or i == n or j == 1 or j == i :\n",
    "            print(\"*\",end=\"\")\n",
    "        else:\n",
    "            print(\" \",end=\"\")\n",
    "    print()\n",
    "\n",
    "\n",
    "    "
   ]
  },
  {
   "cell_type": "code",
   "execution_count": 96,
   "metadata": {},
   "outputs": [
    {
     "name": "stdout",
     "output_type": "stream",
     "text": [
      "YES\n"
     ]
    }
   ],
   "source": [
    "\"\"\" B26:\n",
    "Cho 3 số a, b, n. Nhiệm vụ của bạn là xác định xem phương trình ax + by = n có tồn tại cặp nghiệm (x, y) nguyên không âm \n",
    "hay không?\n",
    "\"\"\"\n",
    "a,b,n=map(int,input().split())\n",
    "x,y =map(int,input().split())\n",
    "if a==0 and b!=0:\n",
    "    if x>=0 and y>0:\n",
    "        if n>=0:\n",
    "            print(\"YES\")\n",
    "elif a!=0 and b==0:\n",
    "    if x>0 and y>=0:\n",
    "        if n>=0:\n",
    "            print(\"YES\")\n",
    "elif a==0 and b==0:\n",
    "    if n==0:\n",
    "        if x>=0 and y>=0:\n",
    "            print(\"YES\")\n",
    "elif a!=0 and b!=0:\n",
    "    if n>0:\n"
   ]
  },
  {
   "cell_type": "code",
   "execution_count": 13,
   "metadata": {},
   "outputs": [
    {
     "name": "stdout",
     "output_type": "stream",
     "text": [
      "15\n",
      "6\n"
     ]
    }
   ],
   "source": [
    "\"\"\" B27:\n",
    "Cho số nguyên dương không âm N, ở mỗi thao tác bạn thực hiện tính tổng các chữ số của N sau đó gán lại cho N, thao tác \n",
    "này được thực hiện cho tới khi N chỉ còn 1 chữ số. Ví dụ N = 278 -> 17 -> 8, vậy ta có dạng rút gọn của 278 là 8. \n",
    "Nhiệm vụ của bạn là tìm dạn rút gọn của 1 số nguyên không âm N cho trước\n",
    "\"\"\"\n",
    "n=int(input(\"Nhap gia tri cua n : \")) #12345\n",
    "while n>9:    \n",
    "    b=0\n",
    "    while n!=0:\n",
    "        b+=n%10\n",
    "        n//=10\n",
    "    n=b\n",
    "    print(n)\n",
    "\n",
    "\n"
   ]
  },
  {
   "cell_type": "code",
   "execution_count": 172,
   "metadata": {},
   "outputs": [
    {
     "name": "stdout",
     "output_type": "stream",
     "text": [
      "4\n"
     ]
    }
   ],
   "source": [
    "\"\"\" B19:\n",
    "28techland là vùng đất mà cư dân cực kì thích uống bia, vì thế để tăng số lượng bia bán ra các cửa hàng bia ở đây đưa \n",
    "ra khuyến mại như sau : Cứ 3 vỏ chai bia sẽ được đổi một chai bia mới. Biết rằng ở 28techland, mỗi chai bia có giá 28 xu, \n",
    "nhiệm vụ của bạn là xác định với N xu cho trước, bạn có thể mua được tối đa bao nhiêu chai bia tính cả việc đổi thưởng \n",
    "bằng vỏ chai?\n",
    "\n",
    "Gợi ý : Bước 1 : Tính số lượng chai bia mua bằng tiền (n / 28). \n",
    "Sau đó làm 1 vòng lặp while với điều kiện lặp là số lượng vỏ chai mình có >= 3, bên trong vòng lặp thì \n",
    "tính số lượng chia bia đổi được và cập nhật vỏ chai.\n",
    "\"\"\"\n",
    "n=int(input())\n",
    "ans=n//28\n",
    "vo=ans\n",
    "while vo >= 3:\n",
    "    temp=vo//3\n",
    "    ans+=temp\n",
    "    vo=vo%3 + temp\n",
    "print(ans)\n",
    "\n",
    "   \n"
   ]
  },
  {
   "cell_type": "code",
   "execution_count": 80,
   "metadata": {},
   "outputs": [
    {
     "name": "stdout",
     "output_type": "stream",
     "text": [
      "24\n"
     ]
    }
   ],
   "source": [
    "\"\"\" B24:\n",
    "Cho 2 số a và b. Nhiệm vụ của bạn là tính ước chung lớn nhất của a giai thừa và b giai thừa\n",
    "\"\"\"\n",
    "from math import*\n",
    "a=int(input())\n",
    "b=int(input())\n",
    "print(factorial(min(a,b)))\n"
   ]
  },
  {
   "cell_type": "code",
   "execution_count": 78,
   "metadata": {},
   "outputs": [
    {
     "name": "stdout",
     "output_type": "stream",
     "text": [
      "1 2 3 4 5 6 7 \n",
      "8 9 10 11 12 13 14 \n",
      "15 16 17 18 19 20 21 \n",
      "22 23 24 25 26 27 28 \n",
      "29 30 31 32 33 34 35 \n",
      "36 37 38 39 40 41 42 \n",
      "43 44 45 46 47 48 49 \n",
      "\n",
      "1 2 3 4 5 6 7 \n",
      "2 3 4 5 6 7 8 \n",
      "3 4 5 6 7 8 9 \n",
      "4 5 6 7 8 9 10 \n",
      "5 6 7 8 9 10 11 \n",
      "6 7 8 9 10 11 12 \n",
      "7 8 9 10 11 12 13 \n",
      "\n",
      "~~~~~~1\n",
      "~~~~~22\n",
      "~~~~333\n",
      "~~~4444\n",
      "~~55555\n",
      "~666666\n",
      "7777777\n",
      "\n",
      "1 \n",
      "2 8 \n",
      "3 9 14 \n",
      "4 10 15 19 \n",
      "5 11 16 20 23 \n",
      "6 12 17 21 24 26 \n",
      "7 13 18 22 25 27 28 \n"
     ]
    }
   ],
   "source": [
    "#Bai 23\n",
    "n=int(input())\n",
    "a=0\n",
    "b=0\n",
    "for i in range(1,n+1):\n",
    "    for j in range(1,n+1):\n",
    "        a+=1\n",
    "        print(a,end=\" \")\n",
    "    print()\n",
    "print()\n",
    "for i in range(1,n+1):\n",
    "    ktao=i\n",
    "    for j in range(1,n+1):\n",
    "        print(ktao,end=\" \")\n",
    "        ktao+=1\n",
    "    print()\n",
    "print()\n",
    "for i in range(1,n+1):\n",
    "    b+=1\n",
    "    for j in range(1,n+1):\n",
    "        if j <= n-i:\n",
    "            print(\"~\",end=\"\")\n",
    "        else:\n",
    "            print(b,end=\"\")\n",
    "    print()\n",
    "print()   \n",
    "for i in range(1,n+1):\n",
    "    ktao = i\n",
    "    kc = n - 1\n",
    "    for j in range(i):\n",
    "        print(ktao, end = \" \")\n",
    "        ktao += kc \n",
    "        kc -= 1\n",
    "    print()"
   ]
  },
  {
   "cell_type": "code",
   "execution_count": 35,
   "metadata": {},
   "outputs": [
    {
     "name": "stdout",
     "output_type": "stream",
     "text": [
      "1 2 3 4 5 \n",
      "6 7 8 9 10 \n",
      "11 12 13 14 15 \n",
      "16 17 18 19 20 \n",
      "21 22 23 24 25 \n"
     ]
    }
   ],
   "source": [
    "\"\"\"  Voi n =5:\n",
    "\n",
    "1 2 3 4 5 \n",
    "6 7 8 9 10 \n",
    "11 12 13 14 15 \n",
    "16 17 18 19 20 \n",
    "21 22 23 24 25 \n",
    "\n",
    "\"\"\"\n",
    "n=int(input())\n",
    "a=0\n",
    "for i in range(1,n+1):\n",
    "    for j in range(1,n+1):\n",
    "        a+=1\n",
    "        print(a,end=\" \")\n",
    "    print()"
   ]
  },
  {
   "cell_type": "code",
   "execution_count": 72,
   "metadata": {},
   "outputs": [
    {
     "name": "stdout",
     "output_type": "stream",
     "text": [
      "1 2 3 4 5 \n",
      "2 3 4 5 6 \n",
      "3 4 5 6 7 \n",
      "4 5 6 7 8 \n",
      "5 6 7 8 9 \n"
     ]
    }
   ],
   "source": [
    "\"\"\"\n",
    "\n",
    "1 2 3 4 5 \n",
    "2 3 4 5 6 \n",
    "3 4 5 6 7 \n",
    "4 5 6 7 8 \n",
    "5 6 7 8 9 \n",
    "\n",
    "\"\"\"\n",
    "n=int(input())\n",
    "for i in range(1,n+1):\n",
    "    ktao=i\n",
    "    for j in range(1,n+1):\n",
    "        print(ktao,end=\" \")\n",
    "        ktao+=1\n",
    "    print()\n",
    "print()   "
   ]
  },
  {
   "cell_type": "code",
   "execution_count": 73,
   "metadata": {},
   "outputs": [
    {
     "name": "stdout",
     "output_type": "stream",
     "text": [
      "~~~~~1\n",
      "~~~~22\n",
      "~~~333\n",
      "~~4444\n",
      "~55555\n",
      "666666\n",
      "\n"
     ]
    }
   ],
   "source": [
    "\"\"\"\n",
    "\n",
    "~~~~1\n",
    "~~~22\n",
    "~~333\n",
    "~4444\n",
    "55555\n",
    "\n",
    "\"\"\"\n",
    "n=int(input())\n",
    "a=0\n",
    "for i in range(1,n+1):\n",
    "    a+=1\n",
    "    for j in range(1,n+1):\n",
    "        if j <= n-i:\n",
    "            print(\"~\",end=\"\")\n",
    "        else:\n",
    "            print(a,end=\"\")\n",
    "    print()\n",
    "print()"
   ]
  },
  {
   "cell_type": "code",
   "execution_count": 75,
   "metadata": {},
   "outputs": [
    {
     "name": "stdout",
     "output_type": "stream",
     "text": [
      "1 \n",
      "2 6 \n",
      "3 7 10 \n",
      "4 8 11 13 \n",
      "5 9 12 14 15 \n"
     ]
    }
   ],
   "source": [
    "\"\"\"\n",
    "\n",
    "1 \n",
    "2 6 \n",
    "3 7 10 \n",
    "4 8 11 13 \n",
    "5 9 12 14 15 \n",
    "\n",
    "\"\"\"\n",
    "n=int(input())\n",
    "for i in range(1,n+1):\n",
    "    ktao = i\n",
    "    kc = n - 1\n",
    "    for j in range(i):\n",
    "        print(ktao, end = \" \")\n",
    "        ktao += kc \n",
    "        kc -= 1\n",
    "    print()\n"
   ]
  },
  {
   "cell_type": "code",
   "execution_count": 95,
   "metadata": {},
   "outputs": [
    {
     "name": "stdout",
     "output_type": "stream",
     "text": [
      "2.0000\n"
     ]
    }
   ],
   "source": [
    "\"\"\" B25.\n",
    "Cho số nguyên dương N, bạn hãy tính tổng : S(N) = 1/0! + 1/1! + 1/2! + 1/3! +... + 1/(N - 1)!. Trong đó ! là kí hiệu của \n",
    "giai thừa\n",
    "\n",
    "Input Format:\n",
    "\n",
    "Dòng duy nhất chứa số nguyên dương N\n",
    "\n",
    "Constraints:\n",
    "\n",
    "2<=N<=15\n",
    "\n",
    "Output Format:\n",
    "\n",
    "In ra kết quả lấy độ chính xác 4 số đằng sau dấu thập phân\n",
    "\n",
    "\"\"\"\n",
    "\n",
    "n = int(input())\n",
    "gt = 1\n",
    "s = 2  # Bắt đầu với 1/0! + 1/1! = 2\n",
    "for i in range(2, n):  # Chỉ chạy từ 2 đến N-1\n",
    "    gt *= i\n",
    "    s += 1/gt\n",
    "print(\"{:.4f}\".format(s))  # In ra kết quả với độ chính xác 4 chữ số sau dấu phẩy"
   ]
  },
  {
   "cell_type": "code",
   "execution_count": 96,
   "metadata": {},
   "outputs": [
    {
     "name": "stdout",
     "output_type": "stream",
     "text": [
      "Ràng buộc không được đáp ứng. N phải nằm trong khoảng từ 2 đến 15.\n"
     ]
    }
   ],
   "source": [
    "# Nhập số nguyên dương N\n",
    "N = int(input(\"Nhập số nguyên dương N (2 <= N <= 15): \"))\n",
    "\n",
    "# Kiểm tra ràng buộc về N\n",
    "if 2 <= N <= 15:\n",
    "    result = 0\n",
    "    factorial = 1\n",
    "\n",
    "    for i in range(N):\n",
    "        if i > 0:\n",
    "            factorial *= i\n",
    "\n",
    "        result += 1 / factorial\n",
    "\n",
    "    # In ra kết quả với độ chính xác 4 số sau dấu thập phân\n",
    "    print(f\"Kết quả của S({N}) là: {round(result, 4)}\")\n",
    "else:\n",
    "    print(\"Ràng buộc không được đáp ứng. N phải nằm trong khoảng từ 2 đến 15.\")"
   ]
  }
 ],
 "metadata": {
  "kernelspec": {
   "display_name": "Python 3",
   "language": "python",
   "name": "python3"
  },
  "language_info": {
   "codemirror_mode": {
    "name": "ipython",
    "version": 3
   },
   "file_extension": ".py",
   "mimetype": "text/x-python",
   "name": "python",
   "nbconvert_exporter": "python",
   "pygments_lexer": "ipython3",
   "version": "3.11.5"
  }
 },
 "nbformat": 4,
 "nbformat_minor": 2
}
