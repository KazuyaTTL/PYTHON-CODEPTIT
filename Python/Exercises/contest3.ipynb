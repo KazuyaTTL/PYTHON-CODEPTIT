{
 "cells": [
  {
   "cell_type": "code",
   "execution_count": null,
   "metadata": {},
   "outputs": [],
   "source": [
    "#In ra các số chính phương trong đoạn từ a tới b. \n",
    "from math import isqrt\n",
    "# Hàm kiểm tra số chính phương\n",
    "def la_so_chinh_phuong(n):\n",
    "    return isqrt(n)**2 == n\n",
    "# Nhập giá trị a và b từ bàn phím\n",
    "a = int(input(\"Nhập giá trị a: \"))\n",
    "b = int(input(\"Nhập giá trị b: \"))\n",
    "# In ra các số chính phương trong đoạn từ a tới b\n",
    "print(f\"Các số chính phương từ {a} đến {b} là:\")\n",
    "for i in range(a, b + 1):\n",
    "    if la_so_chinh_phuong(i):\n",
    "        print(i, end=' ')"
   ]
  },
  {
   "cell_type": "code",
   "execution_count": null,
   "metadata": {},
   "outputs": [],
   "source": [
    "from math import isqrt\n",
    "\n",
    "#Hàm kiểm tra số chính phương\n",
    "def scp(i):\n",
    "    sqr = isqrt(i)\n",
    "    return sqr ** 2 == i\n",
    "# Hàm in ra các số chính phương trong khoảng từ a đến b\n",
    "def in_so_chinh_phuong(a, b):\n",
    "    for i in range(a, b + 1):\n",
    "        if scp(i):\n",
    "            print(i, end=' ')\n",
    "if __name__ == '__main__':\n",
    "    a = int(input(\"Nhập số a: \"))\n",
    "    b = int(input(\"Nhập số b: \"))\n",
    "    in_so_chinh_phuong(a, b)"
   ]
  },
  {
   "cell_type": "code",
   "execution_count": null,
   "metadata": {},
   "outputs": [],
   "source": [
    "#B23. Tính tổng ước của 1 số nguyên dương N.\n",
    "from math import*\n",
    "def tong_uoc(n):\n",
    "    tong=0\n",
    "    for i in range(1,isqrt(n)+1):\n",
    "        if n % i == 0:\n",
    "            tong += i\n",
    "            if i != n // i:\n",
    "                tong += n//i\n",
    "    return tong\n",
    "n=int(input())\n",
    "print(tong_uoc(n))\n"
   ]
  },
  {
   "cell_type": "code",
   "execution_count": 6,
   "metadata": {},
   "outputs": [
    {
     "name": "stdout",
     "output_type": "stream",
     "text": [
      "2^1 * 3^1 * 5^1"
     ]
    }
   ],
   "source": [
    "\"\"\" B12\n",
    "Phân tích thừa số nguyên tố của N, xem ví dụ để rõ hơn format.\n",
    "60 : 2^2 * 3^1 * 5^1\n",
    "\"\"\"\n",
    "from math import*\n",
    "def pt(n):\n",
    "    for i in range(2,isqrt(n)+1):\n",
    "        if n % i == 0:\n",
    "            mu = 0 \n",
    "            while n % i == 0:\n",
    "                mu += 1\n",
    "                n //= i\n",
    "            print(i, mu , sep = \"^\", end = \"\")\n",
    "            if n != 1: #Chưa phân tích xong\n",
    "                print(\" * \", end = \"\")\n",
    "    if n > 1 :\n",
    "        print(n, 1 , sep = \"^\")\n",
    "n= int(input(\"Nhap so n : \"))\n",
    "pt(n)"
   ]
  },
  {
   "cell_type": "code",
   "execution_count": 4,
   "metadata": {},
   "outputs": [
    {
     "name": "stdout",
     "output_type": "stream",
     "text": [
      "5\n",
      "17\n"
     ]
    }
   ],
   "source": [
    "\"\"\" B17\n",
    "Tìm ước số nguyên tố lớn nhất của một số nguyên dương.\n",
    "\n",
    "Input Format\n",
    "Dòng đầu tiên là số lượng test case T; T dòng tiếp theo mỗi dòng là một số nguyên dương N\n",
    "\n",
    "Constraints\n",
    "\n",
    "1≤T≤500; 2≤N≤10000000\n",
    "\n",
    "Output Format\n",
    "Ước số nguyên tố lớn nhất của n in ra mỗi test case trên 1 dòng\n",
    "\"\"\"\n",
    "from math import*\n",
    "def IsPrime(n):\n",
    "    if n < 2:\n",
    "        return False\n",
    "    for i in range(2,isqrt(n)+1):\n",
    "        if n % i == 0:\n",
    "            return False\n",
    "    return True\n",
    "def dem_uoc(n):\n",
    "    a = []\n",
    "    for i in range(1,isqrt(n)+1):\n",
    "        if n % i == 0:\n",
    "            a.append(i)\n",
    "            if i != n//i:\n",
    "                a.append(n//i)\n",
    "    return a\n",
    "if __name__ == \"__main__\" :\n",
    "    t = int(input())\n",
    "    for _ in range(t):\n",
    "        n = int(input())\n",
    "        b = [x for x in dem_uoc(n) if IsPrime(x) == True]\n",
    "        print(max(b))\n"
   ]
  },
  {
   "cell_type": "code",
   "execution_count": null,
   "metadata": {},
   "outputs": [],
   "source": []
  }
 ],
 "metadata": {
  "kernelspec": {
   "display_name": "Python 3",
   "language": "python",
   "name": "python3"
  },
  "language_info": {
   "codemirror_mode": {
    "name": "ipython",
    "version": 3
   },
   "file_extension": ".py",
   "mimetype": "text/x-python",
   "name": "python",
   "nbconvert_exporter": "python",
   "pygments_lexer": "ipython3",
   "version": "3.11.5"
  }
 },
 "nbformat": 4,
 "nbformat_minor": 2
}
