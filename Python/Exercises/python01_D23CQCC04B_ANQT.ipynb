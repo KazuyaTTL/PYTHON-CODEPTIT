{
 "cells": [
  {
   "cell_type": "code",
   "execution_count": 3,
   "metadata": {},
   "outputs": [
    {
     "name": "stdout",
     "output_type": "stream",
     "text": [
      "Avdfe\n",
      "Avdfe\n",
      "AVDFE\n",
      "avdfe\n"
     ]
    }
   ],
   "source": [
    "\"\"\"\n",
    "1. Nhập vào một chuỗi kí tự (string), in ra chuỗi đó lần lượt theo định dạng:\n",
    "- in hoa chữ cái đầu tiên\n",
    "- in hoa chữ cái đầu mỗi từ\n",
    "- in hoa toàn bộ\n",
    "- in thường toàn bộ\n",
    "\"\"\"\n",
    "n=input()\n",
    "print(n.capitalize())\n",
    "print(n.title())\n",
    "print(n.upper())\n",
    "print(n.lower())"
   ]
  },
  {
   "cell_type": "code",
   "execution_count": 1,
   "metadata": {},
   "outputs": [
    {
     "name": "stdout",
     "output_type": "stream",
     "text": [
      "Doflamingo: \"Công lý nằm trong tay kẻ mạnh\"\n"
     ]
    },
    {
     "ename": "",
     "evalue": "",
     "output_type": "error",
     "traceback": [
      "\u001b[1;31mThe Kernel crashed while executing code in the the current cell or a previous cell. Please review the code in the cell(s) to identify a possible cause of the failure. Click <a href='https://aka.ms/vscodeJupyterKernelCrash'>here</a> for more info. View Jupyter <a href='command:jupyter.viewOutput'>log</a> for further details."
     ]
    }
   ],
   "source": [
    "\"\"\"\n",
    "2. Nghĩ đến một trích dẫn nổi tiếng mà bạn yêu thích. In ra trích dẫn đó với tên của tác giả. \n",
    "Ví dụ: ```Albert Einstein: \"A person who never made a mistake never tried anything new.\"```\n",
    "\"\"\"\n",
    "a = input(\"nhập câu nói \")\n",
    "b = input(\"nhập tên tác giả \")\n",
    "print(f'{b}: \"{a}\"')"
   ]
  },
  {
   "cell_type": "code",
   "execution_count": null,
   "metadata": {},
   "outputs": [],
   "source": [
    "\"\"\"\n",
    "3. Nhập vào một chuỗi kí tự. Kiểm tra xem chuối đó có thoả mãn các điều kiện sau không:\n",
    "- chỉ chứa số (0-9)\n",
    "- chỉ chứa kí tự alphabet\n",
    "- chỉ chứa số và kí tự alphabet\n",
    "- tất cả kí tự đều viết hoa\n",
    "- tất cả kí tự đều viết thường\n",
    "\"\"\"\n",
    "\n",
    "x = (input(\"nhập x: \"))\n",
    "x = x.replace(\" \",\"\")\n",
    "print(x.isnumeric())\n",
    "print(x.isalpha())\n",
    "print(x.isalpha() and x.isalnum())\n",
    "print(x.islower())\n",
    "print(x.isupper())"
   ]
  },
  {
   "cell_type": "code",
   "execution_count": null,
   "metadata": {},
   "outputs": [],
   "source": [
    "\"\"\"\n",
    "4. Nhập vào một chuỗi gồm nhiều từ cách nhau bởi dấu whitespaces:\n",
    "- kiểm tra chuỗi vừa nhập vào có kết thúc bằng từ \"end\" hay không.\n",
    "- kiểm tra xem từ ```\"is\"``` có xuất hiện trong string vừa nhập vào không. Nếu có, in ra vị trí xuất hiện đầu tiên và số \n",
    "lần xuất hiện trong chuỗi.\n",
    "- thay thế các từ ```\"is\"``` bằng từ ```\"are\"``` trong chuỗi\n",
    "- chuyển chuỗi trên thành danh sách chứa các từ và đếm số lượng từ hiện có\n",
    "\"\"\"\n",
    "b = input(\"nhập chữ: \")\n",
    "a = b.find(\"is\")\n",
    "if a == -1:\n",
    "    print(False)\n",
    "else:\n",
    "    print(True)\n",
    "    count = 0\n",
    "    for i in range(0,len(b)):\n",
    "        if b[i] == \"i\":\n",
    "            if b[i+1] == \"s\":\n",
    "                count += 1\n",
    "    print(count)\n",
    "b = b.replace(\"is\",\"are\")\n",
    "print(b)\n",
    "c = b.split()\n",
    "print(c)\n",
    "print(len(c))"
   ]
  },
  {
   "cell_type": "code",
   "execution_count": null,
   "metadata": {},
   "outputs": [],
   "source": [
    "\"\"\"\n",
    "5. Nhập vào hai chuỗi kí tự S1 và S2. In ra chuỗi kí tự S được tạo thành bằng cách chèn S2 vào chính giữa S1.\n",
    "\"\"\"\n",
    "s1=input()\n",
    "s2=input()\n",
    "sl=int(len(s1)/2)\n",
    "s=s1[:sl] + s2 + s1[sl:]\n",
    "print(s)"
   ]
  },
  {
   "cell_type": "code",
   "execution_count": null,
   "metadata": {},
   "outputs": [],
   "source": [
    "\"\"\"\n",
    "6. Nhập vào một chuỗi S:\n",
    "   - tìm tất cả các chữ số xuất hiện trong chuỗi S.\n",
    "   - tính tổng các chữ số xuất hiện rong chuỗi S. Nếu không có chữ số nào, in ra \"Come on, I'm so tired!\".\n",
    "\"\"\"\n",
    "a = input(\"nhập chữ: \")\n",
    "b = []\n",
    "for i in range(len(a)):\n",
    "    if a[i].isdigit():\n",
    "        b.append(a[i])\n",
    "print(b)\n",
    "total = 0\n",
    "for i in range(len(b)):\n",
    "    total += int(b[i])\n",
    "print(total)\n"
   ]
  }
 ],
 "metadata": {
  "kernelspec": {
   "display_name": "Python 3",
   "language": "python",
   "name": "python3"
  },
  "language_info": {
   "codemirror_mode": {
    "name": "ipython",
    "version": 3
   },
   "file_extension": ".py",
   "mimetype": "text/x-python",
   "name": "python",
   "nbconvert_exporter": "python",
   "pygments_lexer": "ipython3",
   "version": "3.11.5"
  }
 },
 "nbformat": 4,
 "nbformat_minor": 2
}
